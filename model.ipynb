{
 "cells": [
  {
   "cell_type": "code",
   "execution_count": 182,
   "metadata": {},
   "outputs": [],
   "source": [
    "import pandas as pd\n",
    "from random import randint\n",
    "import plotly.graph_objects as go\n",
    "from plotly.subplots import make_subplots\n",
    "import ipywidgets as widgets\n",
    "from ipywidgets import interact, Layout\n",
    "import plotly.io as pio\n",
    "import math\n",
    "import matplotlib.pyplot as plt\n",
    "import matplotlib.patches as patches\n",
    "from typing import Callable\n",
    "import datetime"
   ]
  },
  {
   "cell_type": "markdown",
   "metadata": {},
   "source": [
    "# Données et fonctions"
   ]
  },
  {
   "cell_type": "markdown",
   "metadata": {},
   "source": [
    "#### Dictionnaire des variables essentielles - explication des variables\n",
    "\n",
    "Ce dictionnaire contient l'ensemble des variables utilisées dans le code, à l'exception des variables de la dernière partie, qui concerne la surface du Data Center. Cette dernière partie comprend un dictionnaire distinct avec les valeurs techniques spécifiques.\n",
    "\n",
    "- `nb_months_experiment` : nombre total de mois pendant lesquels l'expérience est menée (type : int)\n",
    "  \n",
    "- `nb_gpu_regroupement` : nombre de GPU par regroupement (type : int)\n",
    "- `random_nb_gpu_to_multiply` : liste pour simuler une plage de valeurs potentielles (aléatoires) pour le nombre de GPU à multiplier ensuite par `nb_gpu_regroupement` (type : list[int])\n",
    "- `lifespan_months` : durée de vie des GPU en mois (type : int)\n",
    "- `multiplication_of_demand` : facteur par lequel la demande de FLOPS est multipliée après une certaine période (type : float)\n",
    "- `duration_between_demand_multiplications` : durée entre chaque multiplication de la demande en mois (type : int)\n",
    "- `usage_rate` : taux d'utilisation des GPU dans le DataCenter, la valeur est comprise entre 0 et 1 (type : float)\n",
    "- `performance_equipment` : performance supplémentaire liée aux équipements de support comme la carte mère, le CPU, etc. en Watts (type : int)\n",
    "- `gpu_performance_static` : performance statique du GPU utilisée pour des calculs de performance génériques en Watts (type : int)\n",
    "- `hours_of_use_per_day` : nombre d'heures pendant lesquelles les GPU sont utilisés par jour (type : int)\n",
    "- `days_of_use_per_month` : nombre de jours pendant lesquels les GPU sont utilisés par an (type : int)\n",
    "- `alpha` : paramètre alpha utilisé dans les calculs de modélisation, la valeur est comprise entre 0 et 1 (type : float)\n",
    "- `beta` : paramètre beta utilisé dans les calculs de modélisation, la valeur doit être positive (type : float)\n",
    "- `current_year` : année courante pour laquelle l'expérience commence (type : int)\n",
    "- `current_month` : mois courant pour lequel l'expérience commence (type : int)"
   ]
  },
  {
   "cell_type": "code",
   "execution_count": 183,
   "metadata": {},
   "outputs": [],
   "source": [
    "dict_variables = {'nb_months_experiment' : 84,\n",
    "                 'nb_gpu_regroupement' : 8,\n",
    "                 'random_nb_gpu_to_multiply' : [1_000, 1_100],\n",
    "                 'Lifespan_Months' : 36,\n",
    "                 'multiplication_of_demand' : 2.5,\n",
    "                 'duration_between_demand_multiplications' : 30,\n",
    "                 'usage_rate' : 0.8,\n",
    "                 'performance_equipment' : 66,\n",
    "                 'gpu_performance_static' : 25,\n",
    "                 'hours_of_use_per_day' : 24, \n",
    "                 'days_of_use_per_month' : 30,\n",
    "                 'alpha' : 0.5,\n",
    "                 'beta' : 1,\n",
    "                 'current_year' : 2019,\n",
    "                 'current_month' : 1,\n",
    "                 }"
   ]
  },
  {
   "cell_type": "markdown",
   "metadata": {},
   "source": [
    "____"
   ]
  },
  {
   "cell_type": "markdown",
   "metadata": {},
   "source": [
    "## Lecture des fichiers CSV contenant les données "
   ]
  },
  {
   "cell_type": "markdown",
   "metadata": {},
   "source": [
    "Tous ces fichiers se trouvent dans le dossier `csv_files`, situé dans le répertoire `data` de ce projet. Si nécessaire, les valeurs des données peuvent être modifiées manuellement en accédant au fichier `Data_GPU.ipynb`, qui se trouve également dans le répertoire `data`. Les fichiers contiennent les informations suivantes :"
   ]
  },
  {
   "cell_type": "markdown",
   "metadata": {},
   "source": [
    "#### Table de l’efficatité du matériel disponible :"
   ]
  },
  {
   "cell_type": "code",
   "execution_count": 184,
   "metadata": {},
   "outputs": [
    {
     "data": {
      "text/html": [
       "<div>\n",
       "<style scoped>\n",
       "    .dataframe tbody tr th:only-of-type {\n",
       "        vertical-align: middle;\n",
       "    }\n",
       "\n",
       "    .dataframe tbody tr th {\n",
       "        vertical-align: top;\n",
       "    }\n",
       "\n",
       "    .dataframe thead th {\n",
       "        text-align: right;\n",
       "    }\n",
       "</style>\n",
       "<table border=\"1\" class=\"dataframe\">\n",
       "  <thead>\n",
       "    <tr style=\"text-align: right;\">\n",
       "      <th></th>\n",
       "      <th>GPU_Name</th>\n",
       "      <th>Performance_Tensor</th>\n",
       "      <th>Max_Power</th>\n",
       "      <th>Price</th>\n",
       "      <th>Release_Date</th>\n",
       "      <th>CO2_Emissions_Production</th>\n",
       "      <th>Water_Consumption_Production</th>\n",
       "      <th>Abiotic_Depletion_Production</th>\n",
       "      <th>Electronic_Waste_Production</th>\n",
       "    </tr>\n",
       "  </thead>\n",
       "  <tbody>\n",
       "    <tr>\n",
       "      <th>0</th>\n",
       "      <td>V100</td>\n",
       "      <td>125</td>\n",
       "      <td>300</td>\n",
       "      <td>26300</td>\n",
       "      <td>2019-01</td>\n",
       "      <td>100</td>\n",
       "      <td>50</td>\n",
       "      <td>0.0150</td>\n",
       "      <td>1.60</td>\n",
       "    </tr>\n",
       "    <tr>\n",
       "      <th>1</th>\n",
       "      <td>A100</td>\n",
       "      <td>500</td>\n",
       "      <td>400</td>\n",
       "      <td>31900</td>\n",
       "      <td>2020-06</td>\n",
       "      <td>150</td>\n",
       "      <td>75</td>\n",
       "      <td>0.0220</td>\n",
       "      <td>1.92</td>\n",
       "    </tr>\n",
       "    <tr>\n",
       "      <th>2</th>\n",
       "      <td>H100</td>\n",
       "      <td>2000</td>\n",
       "      <td>700</td>\n",
       "      <td>29500</td>\n",
       "      <td>2023-01</td>\n",
       "      <td>150</td>\n",
       "      <td>100</td>\n",
       "      <td>0.0285</td>\n",
       "      <td>1.92</td>\n",
       "    </tr>\n",
       "  </tbody>\n",
       "</table>\n",
       "</div>"
      ],
      "text/plain": [
       "  GPU_Name  Performance_Tensor  Max_Power  Price Release_Date  \\\n",
       "0     V100                 125        300  26300      2019-01   \n",
       "1     A100                 500        400  31900      2020-06   \n",
       "2     H100                2000        700  29500      2023-01   \n",
       "\n",
       "   CO2_Emissions_Production  Water_Consumption_Production  \\\n",
       "0                       100                            50   \n",
       "1                       150                            75   \n",
       "2                       150                           100   \n",
       "\n",
       "   Abiotic_Depletion_Production  Electronic_Waste_Production  \n",
       "0                        0.0150                         1.60  \n",
       "1                        0.0220                         1.92  \n",
       "2                        0.0285                         1.92  "
      ]
     },
     "execution_count": 184,
     "metadata": {},
     "output_type": "execute_result"
    }
   ],
   "source": [
    "df_data_GPU = pd.read_csv('data/csv_files/data_GPU.csv')\n",
    "df_data_GPU"
   ]
  },
  {
   "cell_type": "markdown",
   "metadata": {},
   "source": [
    "#### Liste des émissions de CO2 liée à la consommation en kgCO2e/kWh par année"
   ]
  },
  {
   "cell_type": "code",
   "execution_count": 185,
   "metadata": {},
   "outputs": [
    {
     "data": {
      "text/html": [
       "<div>\n",
       "<style scoped>\n",
       "    .dataframe tbody tr th:only-of-type {\n",
       "        vertical-align: middle;\n",
       "    }\n",
       "\n",
       "    .dataframe tbody tr th {\n",
       "        vertical-align: top;\n",
       "    }\n",
       "\n",
       "    .dataframe thead th {\n",
       "        text-align: right;\n",
       "    }\n",
       "</style>\n",
       "<table border=\"1\" class=\"dataframe\">\n",
       "  <thead>\n",
       "    <tr style=\"text-align: right;\">\n",
       "      <th></th>\n",
       "      <th>Year</th>\n",
       "      <th>CO2_per_kWh</th>\n",
       "    </tr>\n",
       "  </thead>\n",
       "  <tbody>\n",
       "    <tr>\n",
       "      <th>0</th>\n",
       "      <td>2019</td>\n",
       "      <td>0.061000</td>\n",
       "    </tr>\n",
       "    <tr>\n",
       "      <th>1</th>\n",
       "      <td>2020</td>\n",
       "      <td>0.060000</td>\n",
       "    </tr>\n",
       "    <tr>\n",
       "      <th>2</th>\n",
       "      <td>2021</td>\n",
       "      <td>0.057000</td>\n",
       "    </tr>\n",
       "    <tr>\n",
       "      <th>3</th>\n",
       "      <td>2022</td>\n",
       "      <td>0.052000</td>\n",
       "    </tr>\n",
       "    <tr>\n",
       "      <th>4</th>\n",
       "      <td>2023</td>\n",
       "      <td>0.050615</td>\n",
       "    </tr>\n",
       "  </tbody>\n",
       "</table>\n",
       "</div>"
      ],
      "text/plain": [
       "   Year  CO2_per_kWh\n",
       "0  2019     0.061000\n",
       "1  2020     0.060000\n",
       "2  2021     0.057000\n",
       "3  2022     0.052000\n",
       "4  2023     0.050615"
      ]
     },
     "execution_count": 185,
     "metadata": {},
     "output_type": "execute_result"
    }
   ],
   "source": [
    "df_co2_emissions_per_kwh = pd.read_csv('data/csv_files/co2_emissions_per_kWh.csv')\n",
    "df_co2_emissions_per_kwh.head()"
   ]
  },
  {
   "cell_type": "markdown",
   "metadata": {},
   "source": [
    "#### Liste de la consommation d'eau liée à l'utilisation électrique en m³ par année"
   ]
  },
  {
   "cell_type": "code",
   "execution_count": 186,
   "metadata": {},
   "outputs": [
    {
     "data": {
      "text/html": [
       "<div>\n",
       "<style scoped>\n",
       "    .dataframe tbody tr th:only-of-type {\n",
       "        vertical-align: middle;\n",
       "    }\n",
       "\n",
       "    .dataframe tbody tr th {\n",
       "        vertical-align: top;\n",
       "    }\n",
       "\n",
       "    .dataframe thead th {\n",
       "        text-align: right;\n",
       "    }\n",
       "</style>\n",
       "<table border=\"1\" class=\"dataframe\">\n",
       "  <thead>\n",
       "    <tr style=\"text-align: right;\">\n",
       "      <th></th>\n",
       "      <th>Year</th>\n",
       "      <th>Water_per_kWh</th>\n",
       "    </tr>\n",
       "  </thead>\n",
       "  <tbody>\n",
       "    <tr>\n",
       "      <th>0</th>\n",
       "      <td>2019</td>\n",
       "      <td>0.0033</td>\n",
       "    </tr>\n",
       "    <tr>\n",
       "      <th>1</th>\n",
       "      <td>2020</td>\n",
       "      <td>0.0033</td>\n",
       "    </tr>\n",
       "    <tr>\n",
       "      <th>2</th>\n",
       "      <td>2021</td>\n",
       "      <td>0.0033</td>\n",
       "    </tr>\n",
       "    <tr>\n",
       "      <th>3</th>\n",
       "      <td>2022</td>\n",
       "      <td>0.0033</td>\n",
       "    </tr>\n",
       "    <tr>\n",
       "      <th>4</th>\n",
       "      <td>2023</td>\n",
       "      <td>0.0033</td>\n",
       "    </tr>\n",
       "  </tbody>\n",
       "</table>\n",
       "</div>"
      ],
      "text/plain": [
       "   Year  Water_per_kWh\n",
       "0  2019         0.0033\n",
       "1  2020         0.0033\n",
       "2  2021         0.0033\n",
       "3  2022         0.0033\n",
       "4  2023         0.0033"
      ]
     },
     "execution_count": 186,
     "metadata": {},
     "output_type": "execute_result"
    }
   ],
   "source": [
    "df_water_consumption_per_kwh = pd.read_csv('data/csv_files/water_consumption_per_kWh.csv')\n",
    "df_water_consumption_per_kwh.head()"
   ]
  },
  {
   "cell_type": "markdown",
   "metadata": {},
   "source": [
    "#### Liste de la consommation des ressources abiotiques en kg/Sbeq par année "
   ]
  },
  {
   "cell_type": "code",
   "execution_count": 187,
   "metadata": {},
   "outputs": [
    {
     "data": {
      "text/html": [
       "<div>\n",
       "<style scoped>\n",
       "    .dataframe tbody tr th:only-of-type {\n",
       "        vertical-align: middle;\n",
       "    }\n",
       "\n",
       "    .dataframe tbody tr th {\n",
       "        vertical-align: top;\n",
       "    }\n",
       "\n",
       "    .dataframe thead th {\n",
       "        text-align: right;\n",
       "    }\n",
       "</style>\n",
       "<table border=\"1\" class=\"dataframe\">\n",
       "  <thead>\n",
       "    <tr style=\"text-align: right;\">\n",
       "      <th></th>\n",
       "      <th>Year</th>\n",
       "      <th>Abiotic_Depletion_per_kWh</th>\n",
       "    </tr>\n",
       "  </thead>\n",
       "  <tbody>\n",
       "    <tr>\n",
       "      <th>0</th>\n",
       "      <td>2019</td>\n",
       "      <td>4.860000e-08</td>\n",
       "    </tr>\n",
       "    <tr>\n",
       "      <th>1</th>\n",
       "      <td>2020</td>\n",
       "      <td>4.860000e-08</td>\n",
       "    </tr>\n",
       "    <tr>\n",
       "      <th>2</th>\n",
       "      <td>2021</td>\n",
       "      <td>4.860000e-08</td>\n",
       "    </tr>\n",
       "    <tr>\n",
       "      <th>3</th>\n",
       "      <td>2022</td>\n",
       "      <td>4.860000e-08</td>\n",
       "    </tr>\n",
       "    <tr>\n",
       "      <th>4</th>\n",
       "      <td>2023</td>\n",
       "      <td>4.860000e-08</td>\n",
       "    </tr>\n",
       "  </tbody>\n",
       "</table>\n",
       "</div>"
      ],
      "text/plain": [
       "   Year  Abiotic_Depletion_per_kWh\n",
       "0  2019               4.860000e-08\n",
       "1  2020               4.860000e-08\n",
       "2  2021               4.860000e-08\n",
       "3  2022               4.860000e-08\n",
       "4  2023               4.860000e-08"
      ]
     },
     "execution_count": 187,
     "metadata": {},
     "output_type": "execute_result"
    }
   ],
   "source": [
    "df_abiotic_depletion_per_kwh = pd.read_csv('data/csv_files/abiotic_depletion_per_kWh.csv')\n",
    "df_abiotic_depletion_per_kwh.head()"
   ]
  },
  {
   "cell_type": "markdown",
   "metadata": {},
   "source": [
    "#### La liste des quantités des déchets électroniques en kg par année "
   ]
  },
  {
   "cell_type": "code",
   "execution_count": 188,
   "metadata": {},
   "outputs": [
    {
     "data": {
      "text/html": [
       "<div>\n",
       "<style scoped>\n",
       "    .dataframe tbody tr th:only-of-type {\n",
       "        vertical-align: middle;\n",
       "    }\n",
       "\n",
       "    .dataframe tbody tr th {\n",
       "        vertical-align: top;\n",
       "    }\n",
       "\n",
       "    .dataframe thead th {\n",
       "        text-align: right;\n",
       "    }\n",
       "</style>\n",
       "<table border=\"1\" class=\"dataframe\">\n",
       "  <thead>\n",
       "    <tr style=\"text-align: right;\">\n",
       "      <th></th>\n",
       "      <th>Year</th>\n",
       "      <th>Electronic_Waste_Quantities</th>\n",
       "    </tr>\n",
       "  </thead>\n",
       "  <tbody>\n",
       "    <tr>\n",
       "      <th>0</th>\n",
       "      <td>2019</td>\n",
       "      <td>0</td>\n",
       "    </tr>\n",
       "    <tr>\n",
       "      <th>1</th>\n",
       "      <td>2020</td>\n",
       "      <td>0</td>\n",
       "    </tr>\n",
       "    <tr>\n",
       "      <th>2</th>\n",
       "      <td>2021</td>\n",
       "      <td>0</td>\n",
       "    </tr>\n",
       "    <tr>\n",
       "      <th>3</th>\n",
       "      <td>2022</td>\n",
       "      <td>0</td>\n",
       "    </tr>\n",
       "    <tr>\n",
       "      <th>4</th>\n",
       "      <td>2023</td>\n",
       "      <td>0</td>\n",
       "    </tr>\n",
       "  </tbody>\n",
       "</table>\n",
       "</div>"
      ],
      "text/plain": [
       "   Year  Electronic_Waste_Quantities\n",
       "0  2019                            0\n",
       "1  2020                            0\n",
       "2  2021                            0\n",
       "3  2022                            0\n",
       "4  2023                            0"
      ]
     },
     "execution_count": 188,
     "metadata": {},
     "output_type": "execute_result"
    }
   ],
   "source": [
    "df_electronic_waste_quantities = pd.read_csv('data/csv_files/electronic_waste_quantities.csv')\n",
    "df_electronic_waste_quantities.head()"
   ]
  },
  {
   "cell_type": "markdown",
   "metadata": {},
   "source": [
    "___"
   ]
  },
  {
   "cell_type": "markdown",
   "metadata": {},
   "source": [
    "## Dictionnaire des Indicateurs "
   ]
  },
  {
   "cell_type": "markdown",
   "metadata": {},
   "source": [
    "Ce dictionnaire contient les indicateurs utilisés pour analyser l'impact environnemental du Data Center. Chaque indicateur inclut les informations suivantes :\n",
    "\n",
    "- **Nom de l'indicateur** : le nom de l'indicateur environnemental, utilisé comme clé dans le dictionnaire\n",
    "\n",
    "- Les valeurs associées à chaque clé se trouvent dans une liste comprenant :\n",
    "\n",
    "  - **Fichier CSV** : le fichier CSV contenant les données relatives à cet indicateur. Ces fichiers doivent être lus au préalable, comme décrit dans la section \"Lecture des fichiers CSV\"\n",
    "    \n",
    "  - **Nom de la variable** : le nom de la variable dans le fichier CSV qui contient les données sur la quantité de l'indicateur par unité, exprimée par année, jusqu'en 2035\n",
    "  - **Unité** : l'unité de mesure de l'indicateur\n",
    "  - **Quantité utilisée pour la production d'un serveur** : la quantité de l'indicateur utilisée pour la production d'un serveur, exprimée dans l'unité correspondante\n",
    "\n",
    "Le dictionnaire contient actuellement les indicateurs suivants :\n",
    "\n",
    "- **Emissions CO2** : Quantité de CO2 émise par kg\n",
    "  \n",
    "- **Water Consumption** : Consommation d'eau par m³\n",
    "- **Abiotic Depletion** : Déplétion abiotique par kg/Sbeq\n",
    "- **Electronic Waste** : Quantité de déchets électroniques par kg"
   ]
  },
  {
   "cell_type": "code",
   "execution_count": 189,
   "metadata": {},
   "outputs": [],
   "source": [
    "dict_indicators = {'CO2_Emissions' : [df_co2_emissions_per_kwh, 'CO2_per_kWh', 'kg', 150],\n",
    "                  'Water_Consumption' : [df_water_consumption_per_kwh, 'Water_per_kWh', 'm³', 3500],\n",
    "                  'Abiotic_Depletion' : [df_abiotic_depletion_per_kwh, 'Abiotic_Depletion_per_kWh', 'kg/Sbeq', 0.16],\n",
    "                  'Electronic_Waste' : [df_electronic_waste_quantities, 'Electronic_Waste_Quantities', 'kg', 10.7]\n",
    "                  }"
   ]
  },
  {
   "cell_type": "markdown",
   "metadata": {},
   "source": [
    "___"
   ]
  },
  {
   "cell_type": "markdown",
   "metadata": {},
   "source": [
    "## Configuration des différentes Listes et DataFrames "
   ]
  },
  {
   "cell_type": "markdown",
   "metadata": {},
   "source": [
    "### Création du DataFrame pour le matériel initial du parc de GPUs\n",
    "\n",
    "Cette fonction crée un DataFrame avec des détails sur le matériel du parc de GPUs, incluant le nombre total de GPUs, leur durée de vie, et le nom du GPU, en utilisant des paramètres aléatoires et définis."
   ]
  },
  {
   "cell_type": "code",
   "execution_count": 190,
   "metadata": {},
   "outputs": [],
   "source": [
    "def create_df_gpu_park(df_data_GPU: pd.DataFrame, dict_variables: dict[str, int]) -> pd.DataFrame:    \n",
    "    random_nb_gpu_to_multiply = dict_variables.get('random_nb_gpu_to_multiply')\n",
    "    nb_gpu_regroupement = dict_variables.get('nb_gpu_regroupement')\n",
    "    random_nb_gpu_to_multiply = dict_variables.get('random_nb_gpu_to_multiply')\n",
    "    list_GPU_park = []\n",
    "    \n",
    "    nb_GPU = randint(random_nb_gpu_to_multiply[0], random_nb_gpu_to_multiply[1]) * nb_gpu_regroupement\n",
    "    nb_months_experiment_renew = 0\n",
    "    gpu_name = df_data_GPU['GPU_Name'].values[0]\n",
    "    list_GPU_park.append((nb_GPU, nb_months_experiment_renew, gpu_name))\n",
    "    return pd.DataFrame(list_GPU_park, columns = ['Total_GPU_Count', 'Lifespan_Months', 'GPU_Name'])"
   ]
  },
  {
   "cell_type": "markdown",
   "metadata": {},
   "source": [
    "### Liste des FLOPS souhaités dans le parc par an\n",
    "\n",
    "La fonction génère une liste des FLOPS requis pour chaque mois de l'expérience, en tenant compte des périodes de multiplication de la demande."
   ]
  },
  {
   "cell_type": "code",
   "execution_count": 191,
   "metadata": {},
   "outputs": [],
   "source": [
    "def create_list_flops_per_year(df_GPU_park: pd.DataFrame, df_data_GPU: pd.DataFrame, dict_variables: dict[str, int], duration_between_demand_multiplications: int) -> list[int]:\n",
    "    nb_months_experiment = dict_variables.get('nb_months_experiment')\n",
    "    multiplication_of_demand = dict_variables.get('multiplication_of_demand')\n",
    "    list_flops_required = []\n",
    "    flop_required_year_1 = int(df_GPU_park['Total_GPU_Count'][0] * df_data_GPU['Performance_Tensor'].iloc[0])\n",
    "    list_flops_required.append(flop_required_year_1)\n",
    "    for i in range(1, nb_months_experiment):\n",
    "        if i % duration_between_demand_multiplications == 0:\n",
    "            flop_year = list_flops_required[i-1] * multiplication_of_demand\n",
    "        else:\n",
    "            flop_year = list_flops_required[i-1]\n",
    "        list_flops_required.append(flop_year)\n",
    "    return list_flops_required"
   ]
  },
  {
   "cell_type": "markdown",
   "metadata": {},
   "source": [
    "### Liste des taux d'utilisation des GPU\n",
    "\n",
    "Permet de génère une liste des taux d'utilisation des GPU pour chaque mois de l'expérience, en utilisant une valeur fixe définie."
   ]
  },
  {
   "cell_type": "code",
   "execution_count": 192,
   "metadata": {},
   "outputs": [],
   "source": [
    "def create_list_usage_rate(dict_variables: dict[str, int]) -> list[float]:\n",
    "    list_flops_required = []\n",
    "    \n",
    "    nb_months_experiment = dict_variables.get('nb_months_experiment')\n",
    "    usage_rate = dict_variables.get('usage_rate')\n",
    "    \n",
    "    for _ in range(nb_months_experiment):\n",
    "        list_flops_required.append(usage_rate)\n",
    "    return list_flops_required"
   ]
  },
  {
   "cell_type": "markdown",
   "metadata": {},
   "source": [
    "___"
   ]
  },
  {
   "cell_type": "markdown",
   "metadata": {},
   "source": [
    "## Extension du DataFrame des GPU avec des colonnes supplémentaires "
   ]
  },
  {
   "cell_type": "markdown",
   "metadata": {},
   "source": [
    "### Taux d'usage\n",
    "\n",
    "La fonction ajoute une colonne `Usage_Rate` au DataFrame `df_GPU_park`, avec une valeur fixe `usage_rate` pour chaque entrée."
   ]
  },
  {
   "cell_type": "code",
   "execution_count": 193,
   "metadata": {},
   "outputs": [],
   "source": [
    "def add_column_usage_rate(df_GPU_park: pd.DataFrame, usage_rate: float) -> pd.DataFrame:\n",
    "    df_GPU_park['Usage_Rate'] = usage_rate\n",
    "    return df_GPU_park"
   ]
  },
  {
   "cell_type": "markdown",
   "metadata": {},
   "source": [
    "### Consommation énérgetique\n",
    "\n",
    "Cette fonction ajoute une colonne `Energy_Consumption` au DataFrame `df_GPU_park`, calculant la consommation énergétique basée sur les performances des GPU, le taux d'utilisation, et les paramètres du système. Les informations sur la puissance des GPU sont obtenues à partir du DataFrame `df_data_GPU`."
   ]
  },
  {
   "cell_type": "code",
   "execution_count": 194,
   "metadata": {},
   "outputs": [],
   "source": [
    "def add_column_energy_consumption(df_GPU_park: pd.DataFrame, df_data_GPU: pd.DataFrame, dict_variables: dict[str, int]) -> pd.DataFrame:\n",
    "    performance_equipment = dict_variables.get('performance_equipment')\n",
    "    gpu_performance_static = dict_variables.get('gpu_performance_static')\n",
    "    hours_of_use_per_day = dict_variables.get('hours_of_use_per_day')\n",
    "    days_of_use_per_month = dict_variables.get('days_of_use_per_month')\n",
    "    \n",
    "    merged_df = pd.merge(df_GPU_park, df_data_GPU[['GPU_Name', 'Max_Power']], on='GPU_Name')\n",
    "    merged_df['Energy_Consumption'] = (merged_df['Total_GPU_Count'] * hours_of_use_per_day * days_of_use_per_month * ((merged_df['Max_Power'] + performance_equipment + gpu_performance_static) * merged_df['Usage_Rate'] + (1 - merged_df['Usage_Rate']) * gpu_performance_static) / 100).astype(int)\n",
    "    return merged_df.drop(\"Max_Power\", axis=1)"
   ]
  },
  {
   "cell_type": "markdown",
   "metadata": {},
   "source": [
    "### Performance - TFLOPS disponibles et utilisés des GPU\n",
    "\n",
    "La fonction ajoute deux colonnes, `TFlop_Available` et `TFlop_Used`, au DataFrame `df_GPU_park`. Elle calcule les FLOPS disponibles et utilisés en fonction de la performance des GPU et du taux d'utilisation, en se basant sur les données fournies dans `df_data_GPU`."
   ]
  },
  {
   "cell_type": "code",
   "execution_count": 195,
   "metadata": {},
   "outputs": [],
   "source": [
    "def add_column_TFlops(df_GPU_park: pd.DataFrame, df_data_GPU: pd.DataFrame) -> pd.DataFrame:\n",
    "    merged_df = pd.merge(df_GPU_park, df_data_GPU[['GPU_Name', 'Performance_Tensor']], on='GPU_Name')\n",
    "    merged_df['TFlop_Available'] = merged_df['Total_GPU_Count'] * merged_df['Performance_Tensor']\n",
    "    merged_df['TFlop_Used'] = merged_df['TFlop_Available'] * merged_df['Usage_Rate']\n",
    "    return merged_df.drop('Performance_Tensor', axis=1)"
   ]
  },
  {
   "cell_type": "markdown",
   "metadata": {},
   "source": [
    "### Coût total des GPU ajoutés au DataFrame\n",
    "\n",
    "Ajoute une colonne `Price_GPU_Added` au DataFrame `df_GPU_park`. La fonction calcule le coût total des GPU ajoutés en fonction de leur prix et de leur nombre, mais uniquement si la durée de vie des GPU (`Lifespan_Months`) est nulle, c'est-à-dire que les GPU viennent d'être ajoutés au parc. Les prix sont extraits de `df_data_GPU`, et la colonne `Price` est supprimée après le calcul."
   ]
  },
  {
   "cell_type": "code",
   "execution_count": 196,
   "metadata": {},
   "outputs": [],
   "source": [
    "def add_column_price_gpu(df_GPU_park: pd.DataFrame, df_data_GPU: pd.DataFrame) -> pd.DataFrame:\n",
    "    merged_df = pd.merge(df_GPU_park, df_data_GPU[['GPU_Name', 'Price']], on='GPU_Name')\n",
    "    merged_df['Price_GPU_Added'] = 0\n",
    "    for i in range(merged_df.shape[0]):\n",
    "        if merged_df['Lifespan_Months'].iloc[i] == 0:\n",
    "            merged_df.loc[i, \"Price_GPU_Added\"] = merged_df['Total_GPU_Count'].iloc[i] * merged_df['Price'].iloc[i]\n",
    "    return merged_df.drop('Price', axis=1)"
   ]
  },
  {
   "cell_type": "markdown",
   "metadata": {},
   "source": [
    "### Ajout des colonnes pour les indicateurs définis dans le dictionnaire `dict_indicators`"
   ]
  },
  {
   "cell_type": "markdown",
   "metadata": {},
   "source": [
    "#### Calcul de la consommation totale de ressources pour les indicateurs de production de GPU\n",
    "\n",
    "Calcule la consommation totale de ressources lors de la production de GPU, en fonction des types et du nombre de GPU ainsi que de la consommation associée à la production des serveurs. La fonction utilise les informations du DataFrame `df_data_GPU` et les valeurs spécifiées dans une ligne du DataFrame `row`, qui est associé à un DataFrame contenant une seule ligne (la fonction sera appelée pour chaque ligne d'un DataFrame en utilisant une boucle `for`). Elle prend en compte le coût de production par serveur ainsi que le nombre de GPU regroupés."
   ]
  },
  {
   "cell_type": "code",
   "execution_count": 197,
   "metadata": {},
   "outputs": [],
   "source": [
    "def resource_consumption_gpu_production(df_data_GPU: pd.DataFrame, row: int, column: int, nb_gpu_regroupement: int, consumption_prod_server: float, column_df_data_GPU: str) -> float:\n",
    "    total_consumption = 0\n",
    "    if row[column] > 0:\n",
    "        for key, val in row['GPU_Types'].items():\n",
    "            df_consumption = df_data_GPU[df_data_GPU['GPU_Name'] == key][column_df_data_GPU].values\n",
    "            if df_consumption.size > 0:\n",
    "                total_consumption += row[column] * df_consumption[0] + math.ceil(row[column] / nb_gpu_regroupement) * consumption_prod_server\n",
    "    return total_consumption"
   ]
  },
  {
   "cell_type": "markdown",
   "metadata": {},
   "source": [
    "#### Ajout d'une colonne calculée basée sur les données annuelles pour les indicateurs :\n",
    "\n",
    "La fonction ajoute une colonne à un DataFrame (`df_test_model`) en calculant une valeur dérivée des données d'un autre DataFrame (`df_data_per_year`). La colonne ajoutée est calculée en multipliant l'énergie consommée par une valeur spécifique à chaque année, extraite de `df_data_per_year`. La colonne de données annuelles et l'année utilisée pour le calcul sont supprimées du DataFrame final."
   ]
  },
  {
   "cell_type": "code",
   "execution_count": 198,
   "metadata": {},
   "outputs": [],
   "source": [
    "def add_column_usage(df_test_model: pd.DataFrame, df_data_per_year: pd.DataFrame, current_year: int, column_to_add: str, column_df_data_per_year: str) -> pd.DataFrame:\n",
    "    df_test_model['Year'] = current_year\n",
    "    merged_df = pd.merge(df_test_model, df_data_per_year[['Year', column_df_data_per_year]], on='Year')\n",
    "    merged_df[column_to_add] = (merged_df['Energy_Consumption'] * merged_df[column_df_data_per_year]).astype(int)\n",
    "    return merged_df.drop([column_df_data_per_year, 'Year'], axis=1)"
   ]
  },
  {
   "cell_type": "markdown",
   "metadata": {},
   "source": [
    "___"
   ]
  },
  {
   "cell_type": "markdown",
   "metadata": {},
   "source": [
    "## Calcul des données statistiques diverses"
   ]
  },
  {
   "cell_type": "markdown",
   "metadata": {},
   "source": [
    "### Calcul de la Somme Totale des Données d'une Variable\n",
    "\n",
    "Cette fonction calcule la somme totale d'une colonne spécifique dans le DataFrame `df_GPU_park`. La colonne est identifiée par `variable_name`, et le type de données est précisé par `data_type`. La fonction renvoie la somme sous le type de données spécifié, soit `int` ou `float`.\n",
    "\n",
    "La fonction sera utilisé pour les données suivantes :\n",
    "- **Nombre total de GPU dans le Data Center**\n",
    "- **Consommation totale des GPU dans le Data Center en kWh**\n",
    "- **Total des TFLOPS disponibles dans le parc**\n",
    "- **Quantité totale de CO2 émise lors de l'utilisation des GPU en kg**"
   ]
  },
  {
   "cell_type": "code",
   "execution_count": 199,
   "metadata": {},
   "outputs": [],
   "source": [
    "def calculate_total_sum_variable(df_GPU_park: pd.DataFrame, variable_name: str, data_type: type) -> float:\n",
    "    total_sum = df_GPU_park[variable_name].sum()\n",
    "    if data_type == int:\n",
    "        return int(total_sum)\n",
    "    elif data_type == float:\n",
    "        return total_sum"
   ]
  },
  {
   "cell_type": "markdown",
   "metadata": {},
   "source": [
    "### Détection des pics de demande de TFLOPS\n",
    "\n",
    "Identifie les pics significatifs dans la demande de TFLOPS en comparant les valeurs dans `list_flops_required` avec un facteur de multiplication spécifié. Elle retourne une liste de pics permet de repérer les moments où des ajustements ou des ajouts de GPU peuvent être nécessaires pour répondre à la demande croissante."
   ]
  },
  {
   "cell_type": "code",
   "execution_count": 200,
   "metadata": {},
   "outputs": [],
   "source": [
    "def identify_demand_peaks(list_flops_required: list[float], dict_variables: dict[str, float]) -> list[list[float]]:\n",
    "    list_demand_peacks = []\n",
    "    multiplication_of_demand = dict_variables.get('multiplication_of_demand')\n",
    "    \n",
    "    for i in range(1, len(list_flops_required)):\n",
    "        if list_flops_required[i] == list_flops_required[i-1] * multiplication_of_demand:\n",
    "            list_demand_peacks.append([list_flops_required[i-1], list_flops_required[i], i])\n",
    "    return list_demand_peacks"
   ]
  },
  {
   "cell_type": "markdown",
   "metadata": {},
   "source": [
    "___"
   ]
  },
  {
   "cell_type": "markdown",
   "metadata": {},
   "source": [
    "## Mise à jour et gestion du Data Center"
   ]
  },
  {
   "cell_type": "markdown",
   "metadata": {},
   "source": [
    "### Mise à jour de la durée de vie restante des GPU (en mois)\n",
    "\n",
    "La fonction `update_lifespan_gpu` met à jour la durée de vie restante des GPU dans le DataFrame `df_GPU_park`. Elle ajoute le nombre de mois écoulés (`months_passed`) à la colonne `Lifespan_Months`, ce qui reflète l'augmentation de la durée de vie totale des GPU. Cette mise à jour est essentielle pour suivre l'évolution de la durée de vie des GPU au fil du temps dans le parc informatique."
   ]
  },
  {
   "cell_type": "code",
   "execution_count": 201,
   "metadata": {},
   "outputs": [],
   "source": [
    "def update_lifespan_gpu(df_GPU_park: pd.DataFrame, months_passed: int) -> pd.DataFrame:\n",
    "    df_GPU_park.loc[:, 'Lifespan_Months'] += months_passed\n",
    "    return df_GPU_park"
   ]
  },
  {
   "cell_type": "markdown",
   "metadata": {},
   "source": [
    "### Calcul du nombre de GPU nécessaires pour atteindre les exigences de performance du Data Center\n",
    "\n",
    "Calcule le nombre de GPU nécessaires pour satisfaire une demande de FLOPS en fonction des performances maximales des GPU et des TFLOPS déjà disponibles dans le parc. La fonction prend en compte les TFLOPS à renouveler et ajuste les besoins en GPU en conséquence. Elle retourne le nombre total de GPU requis et le nombre de GPU à renouveler."
   ]
  },
  {
   "cell_type": "code",
   "execution_count": 202,
   "metadata": {},
   "outputs": [],
   "source": [
    "def how_many_gpu_needed(dict_variables: dict[str, int], flops_required: int, max_perf_gpu: int, total_flops_park: float, flops_to_renewed: float) -> tuple[int, int, int]:\n",
    "    nb_gpu_regroupement = dict_variables.get('nb_gpu_regroupement')\n",
    "    \n",
    "    def round_up_to_multiple(n: int) -> int:\n",
    "        return ((n + nb_gpu_regroupement - 1) // nb_gpu_regroupement) * nb_gpu_regroupement\n",
    "    flops_needed = flops_required - total_flops_park\n",
    "    if flops_to_renewed > flops_needed and flops_to_renewed != 0:\n",
    "        flops_to_renewed = flops_needed\n",
    "    if flops_required < total_flops_park:\n",
    "        return 0, 0\n",
    "    elif flops_needed > 0:\n",
    "        required_gpus = flops_needed // (max_perf_gpu) + (flops_needed % max_perf_gpu > 0)\n",
    "        required_gpus = round_up_to_multiple(required_gpus)\n",
    "        gpu_renewed = round_up_to_multiple(flops_to_renewed // (max_perf_gpu) + (flops_to_renewed % max_perf_gpu > 0))\n",
    "        return int(required_gpus), int(gpu_renewed)\n",
    "    else:\n",
    "        return 0, 0"
   ]
  },
  {
   "cell_type": "markdown",
   "metadata": {},
   "source": [
    "#### Ajout des nouveaux GPU dans le Data Center\n",
    "\n",
    "Ajoute de nouveaux GPU au parc existant, en mettant à jour les données du DataFrame `df_GPU_park`. Elle calcule la consommation énergétique, la performance en TFLOPS et le coût des nouveaux GPU, et met à jour les colonnes correspondantes. Les valeurs des indicateurs environnementaux (comme les émissions de CO2 et la consommation d'eau) sont également ajoutées en fonction des données de l'année courante. La fonction retourne le DataFrame mis à jour avec les nouveaux GPU intégrés."
   ]
  },
  {
   "cell_type": "code",
   "execution_count": 203,
   "metadata": {},
   "outputs": [],
   "source": [
    "def add_gpu_to_park(df_GPU_park: pd.DataFrame, dict_variables: dict[str, int], dict_indicators: dict[str, int], nb_gpu_to_add: int, max_power_gpu: int, max_performance_gpu: int, price_gpu: int, usage_rate: float, type_gpu: str, current_year: int) -> pd.DataFrame:\n",
    "    performance_equipment = dict_variables['performance_equipment']\n",
    "    gpu_performance_static = dict_variables['gpu_performance_static']\n",
    "    hours_of_use_per_day = dict_variables['hours_of_use_per_day']\n",
    "    days_of_use_per_month = dict_variables['days_of_use_per_month']\n",
    "    \n",
    "    if nb_gpu_to_add != 0:\n",
    "        energy_consumption = (nb_gpu_to_add * (max_power_gpu + performance_equipment + gpu_performance_static) * usage_rate * \n",
    "                              (1 - usage_rate) * gpu_performance_static * (hours_of_use_per_day * days_of_use_per_month) / 1000)\n",
    "        \n",
    "        new_gpu_data = {\n",
    "            'Lifespan_Months': 0,\n",
    "            'Total_GPU_Count': nb_gpu_to_add,\n",
    "            'GPU_Name': type_gpu,\n",
    "            'Usage_Rate': usage_rate,\n",
    "            'Energy_Consumption': energy_consumption,\n",
    "            'TFlop_Used': nb_gpu_to_add * max_performance_gpu * usage_rate,\n",
    "            'TFlop_Available': nb_gpu_to_add * max_performance_gpu,\n",
    "            'Price_GPU_Added' : nb_gpu_to_add * price_gpu\n",
    "        }\n",
    "\n",
    "        for indicator, (df_indicator, column_name, unity, value_prod_server) in dict_indicators.items():\n",
    "            quantity_consumption = df_indicator.query('Year == @current_year')[column_name].values[0]\n",
    "            quantity_consumption_usage = energy_consumption * quantity_consumption\n",
    "            new_gpu_data[f'{indicator}_Usage'] = round(quantity_consumption_usage, 2) \n",
    "        \n",
    "        df_GPU_park = pd.concat([df_GPU_park, pd.DataFrame([new_gpu_data])], ignore_index=True)\n",
    "    \n",
    "    return df_GPU_park"
   ]
  },
  {
   "cell_type": "markdown",
   "metadata": {},
   "source": [
    "### Identifie le GPU le plus récent disponible à la date spécifiée\n",
    "\n",
    "Détermine le type de GPU le plus récent disponible jusqu'à une date donnée (année et mois). Elle filtre les GPU dont la date de sortie est antérieure ou égale à la date spécifiée, puis sélectionne le modèle avec la date de sortie la plus récente. La fonction retourne les caractéristiques du GPU le plus récent : nom du modèle, puissance maximale, performance en TFLOPS, et prix."
   ]
  },
  {
   "cell_type": "code",
   "execution_count": 204,
   "metadata": {},
   "outputs": [],
   "source": [
    "def most_recent_gpu(df_data_GPU: pd.DataFrame, current_year: int, current_month: int) -> tuple[str, int, int, int]:\n",
    "    current_year_str = str(current_year)\n",
    "    current_month_str = str(current_month)\n",
    "\n",
    "    current_date = current_year_str + '-0' + current_month_str if current_month<10 else current_year_str + '-' + current_month_str\n",
    "    df_data_GPU['Release_Date'] = pd.to_datetime(df_data_GPU['Release_Date'], format='%Y-%m')\n",
    "\n",
    "    df_filtered = df_data_GPU[df_data_GPU['Release_Date'] <= current_date]\n",
    "    most_recent_gpu = df_filtered.loc[df_filtered['Release_Date'].idxmax()]\n",
    "    \n",
    "    type_gpu = most_recent_gpu['GPU_Name']\n",
    "    max_power_gpu = most_recent_gpu['Max_Power']\n",
    "    max_flop_gpu = most_recent_gpu['Performance_Tensor']\n",
    "    price_gpu = most_recent_gpu['Price']\n",
    "    \n",
    "    return type_gpu, max_power_gpu, max_flop_gpu, price_gpu"
   ]
  },
  {
   "cell_type": "markdown",
   "metadata": {},
   "source": [
    "### Retrait des GPU dont la durée de vie dépasse une période spécifiée\n",
    "\n",
    "Supprime les GPU dont la durée de vie dépasse une période donnée (en mois) du DataFrame `df_GPU_park`. Elle calcule la somme totale des TFLOPS disponibles avant et après le retrait des GPU, et retourne le DataFrame mis à jour ainsi que la différence de TFLOPS disponibles. Les GPU retirés sont ceux dont la durée de vie est supérieure à la période spécifiée, et leur nombre total est également calculé."
   ]
  },
  {
   "cell_type": "code",
   "execution_count": 205,
   "metadata": {},
   "outputs": [],
   "source": [
    "def remove_gpu_lifespan(df_GPU_park: pd.DataFrame, lifespan_months: int) -> pd.DataFrame:\n",
    "    available_flops_park_before = calculate_total_sum_variable(df_GPU_park, 'TFlop_Available', float)\n",
    "    nb_gpu_removed = 0\n",
    "    for i in range(len(df_GPU_park)):\n",
    "        if df_GPU_park['Lifespan_Months'][i] > lifespan_months:\n",
    "            nb_gpu_removed += df_GPU_park['Total_GPU_Count'][i]\n",
    "            df_GPU_park = df_GPU_park.drop(i)\n",
    "    available_flops_park_after = calculate_total_sum_variable(df_GPU_park, 'TFlop_Available', float)\n",
    "    return df_GPU_park.reset_index(drop=True), int(available_flops_park_before - available_flops_park_after)"
   ]
  },
  {
   "cell_type": "markdown",
   "metadata": {},
   "source": [
    "### DDictionnaire des types de GPU et de leurs quantités\n",
    "\n",
    "Cette fonction crée un dictionnaire où chaque clé est le nom d'un type de GPU disponible dans le Data Center, et chaque valeur est la quantité totale de ce type de GPU. Elle parcourt le DataFrame `df_GPU_park`, agrège les quantités de GPU par type, et retourne le dictionnaire résultant."
   ]
  },
  {
   "cell_type": "code",
   "execution_count": 206,
   "metadata": {},
   "outputs": [],
   "source": [
    "def dict_type_gpu(df_GPU_park: pd.DataFrame) -> dict[str, int]:\n",
    "    dict_gpu = {}\n",
    "    for i in range(len(df_GPU_park)):\n",
    "        name_gpu = df_GPU_park['GPU_Name'].iloc[i]\n",
    "        quantity_gpu = int(df_GPU_park['Total_GPU_Count'].iloc[i])\n",
    "        \n",
    "        if name_gpu in dict_gpu:\n",
    "            dict_gpu[name_gpu] += quantity_gpu\n",
    "        else:\n",
    "            dict_gpu[name_gpu] = quantity_gpu \n",
    "    \n",
    "    return dict_gpu"
   ]
  },
  {
   "cell_type": "markdown",
   "metadata": {},
   "source": [
    "___"
   ]
  },
  {
   "cell_type": "markdown",
   "metadata": {},
   "source": [
    "# Modèle"
   ]
  },
  {
   "cell_type": "markdown",
   "metadata": {},
   "source": [
    "## Initialisation des données du Data Center"
   ]
  },
  {
   "cell_type": "markdown",
   "metadata": {},
   "source": [
    "La fonction `initialise_data` prépare le DataFrame du parc de GPU en créant d'abord un DataFrame avec les informations de base. Elle enrichit ensuite ce DataFrame avec des données telles que le taux d'utilisation, la consommation énergétique, les performances en TFLOPS et le coût des GPU. Enfin, elle ajoute des colonnes pour les indicateurs de consommation basés sur les données annuelles. Le DataFrame ainsi obtenu offre un état détaillé du parc de GPU au début de l'expérience, prêt pour l'analyse."
   ]
  },
  {
   "cell_type": "code",
   "execution_count": 207,
   "metadata": {},
   "outputs": [],
   "source": [
    "def initialise_data(dict_variables: dict[str, int], usage_rate: float) -> pd.DataFrame:\n",
    "    current_year = dict_variables.get('current_year')\n",
    "    df_GPU_park = create_df_gpu_park(df_data_GPU, dict_variables)\n",
    "    df_GPU_park = add_column_usage_rate(df_GPU_park, usage_rate)\n",
    "    df_GPU_park = add_column_energy_consumption(df_GPU_park, df_data_GPU, dict_variables)\n",
    "    df_GPU_park = add_column_TFlops(df_GPU_park, df_data_GPU)\n",
    "    df_GPU_park = add_column_price_gpu(df_GPU_park, df_data_GPU)\n",
    "    for i in range(len(dict_indicators)):\n",
    "        df_GPU_park = add_column_usage(df_GPU_park, list(dict_indicators.values())[i][0], current_year, f'{list(dict_indicators.keys())[i]}_Usage', list(dict_indicators.values())[i][1])\n",
    "    return df_GPU_park"
   ]
  },
  {
   "cell_type": "markdown",
   "metadata": {},
   "source": [
    "Le DataFrame suivant reflète l'état du parc de GPU au début de l'expérience avec toutes les informations calculées et ajoutées. Une copie est créée pour effectuer des modifications sans altérer les données originales."
   ]
  },
  {
   "cell_type": "code",
   "execution_count": 208,
   "metadata": {},
   "outputs": [
    {
     "data": {
      "text/html": [
       "<div>\n",
       "<style scoped>\n",
       "    .dataframe tbody tr th:only-of-type {\n",
       "        vertical-align: middle;\n",
       "    }\n",
       "\n",
       "    .dataframe tbody tr th {\n",
       "        vertical-align: top;\n",
       "    }\n",
       "\n",
       "    .dataframe thead th {\n",
       "        text-align: right;\n",
       "    }\n",
       "</style>\n",
       "<table border=\"1\" class=\"dataframe\">\n",
       "  <thead>\n",
       "    <tr style=\"text-align: right;\">\n",
       "      <th></th>\n",
       "      <th>Total_GPU_Count</th>\n",
       "      <th>Lifespan_Months</th>\n",
       "      <th>GPU_Name</th>\n",
       "      <th>Usage_Rate</th>\n",
       "      <th>Energy_Consumption</th>\n",
       "      <th>TFlop_Available</th>\n",
       "      <th>TFlop_Used</th>\n",
       "      <th>Price_GPU_Added</th>\n",
       "      <th>CO2_Emissions_Usage</th>\n",
       "      <th>Water_Consumption_Usage</th>\n",
       "      <th>Abiotic_Depletion_Usage</th>\n",
       "      <th>Electronic_Waste_Usage</th>\n",
       "    </tr>\n",
       "  </thead>\n",
       "  <tbody>\n",
       "    <tr>\n",
       "      <th>0</th>\n",
       "      <td>8152</td>\n",
       "      <td>0</td>\n",
       "      <td>V100</td>\n",
       "      <td>0.8</td>\n",
       "      <td>18653080</td>\n",
       "      <td>1019000</td>\n",
       "      <td>815200.0</td>\n",
       "      <td>214397600</td>\n",
       "      <td>1137837</td>\n",
       "      <td>61555</td>\n",
       "      <td>0</td>\n",
       "      <td>0</td>\n",
       "    </tr>\n",
       "  </tbody>\n",
       "</table>\n",
       "</div>"
      ],
      "text/plain": [
       "   Total_GPU_Count  Lifespan_Months GPU_Name  Usage_Rate  Energy_Consumption  \\\n",
       "0             8152                0     V100         0.8            18653080   \n",
       "\n",
       "   TFlop_Available  TFlop_Used  Price_GPU_Added  CO2_Emissions_Usage  \\\n",
       "0          1019000    815200.0        214397600              1137837   \n",
       "\n",
       "   Water_Consumption_Usage  Abiotic_Depletion_Usage  Electronic_Waste_Usage  \n",
       "0                    61555                        0                       0  "
      ]
     },
     "execution_count": 208,
     "metadata": {},
     "output_type": "execute_result"
    }
   ],
   "source": [
    "usage_rate = dict_variables.get('usage_rate')\n",
    "df_GPU_park_init = initialise_data(dict_variables, usage_rate)\n",
    "df_GPU_park = df_GPU_park_init.copy() \n",
    "df_GPU_park"
   ]
  },
  {
   "cell_type": "markdown",
   "metadata": {},
   "source": [
    "Liste contenant le taux d'utilisation des GPU pour chaque mois de l'expérience"
   ]
  },
  {
   "cell_type": "code",
   "execution_count": 209,
   "metadata": {},
   "outputs": [
    {
     "data": {
      "text/plain": [
       "[0.8, 0.8, 0.8, 0.8, 0.8]"
      ]
     },
     "execution_count": 209,
     "metadata": {},
     "output_type": "execute_result"
    }
   ],
   "source": [
    "list_gpu_rate_usage = create_list_usage_rate(dict_variables)\n",
    "list_gpu_rate_usage[0:5]"
   ]
  },
  {
   "cell_type": "markdown",
   "metadata": {},
   "source": [
    "____"
   ]
  },
  {
   "cell_type": "markdown",
   "metadata": {},
   "source": [
    "## Algorithme \n",
    "\n"
   ]
  },
  {
   "cell_type": "markdown",
   "metadata": {},
   "source": [
    "### Fonctions pour Simuler le Taux d'Utilisation des GPU"
   ]
  },
  {
   "cell_type": "markdown",
   "metadata": {},
   "source": [
    "Pour notre algorithme, nous allons évaluer plusieurs fonctions pour simuler le taux d'utilisation des GPU ajoutés, afin d'atténuer les effets d'escalier observés lorsqu'un grand nombre de GPU est ajouté simultanément. \n",
    "\n",
    "La courbe lissée réduit les variations brusques des valeurs originales, offrant une vue plus stable de la tendance générale du taux d'utilisation des GPU. Les paramètres $\\alpha$ ou $\\beta$ ajuste la réactivité de la courbe lissée aux nouvelles données.\n",
    "\n",
    "On cherche à estimer : $\\bar{f} =\\frac{\\tau}{c_i}$ qui represente la valeur cible et on ne peut pas augmenter $f_i$ de plus de 20% (par exemple), avec $\\tau$ à 80% et $\\tau_{i-1}$ initié avec $\\tau$ et $c_i$ la capacité (TFLOP) en fonction du temps.\n",
    "\n",
    "Ainsi : $\\tau_i = \\frac{f_i}{c_i}$"
   ]
  },
  {
   "cell_type": "markdown",
   "metadata": {},
   "source": [
    "**Première fonction :** lissage exponentiel\n",
    "\n",
    "- $f_{1_i} = (1 - \\alpha) \\cdot f_{i-1} + \\alpha \\cdot \\bar{f} \\quad \\text{avec} \\quad \\alpha \\in (0, 1]$"
   ]
  },
  {
   "cell_type": "code",
   "execution_count": 210,
   "metadata": {},
   "outputs": [],
   "source": [
    "def estimate_fi_1(f_prev: float, f_bar: float, alpha: float) -> float:\n",
    "    f_i = (1 - alpha) * f_prev + alpha * f_bar\n",
    "    return min(f_i, f_prev * 1.2)"
   ]
  },
  {
   "cell_type": "markdown",
   "metadata": {},
   "source": [
    "**Deuxième fonction :** lissage avec limite\n",
    "\n",
    "- $\\begin{cases}\n",
    "f_i = \\min(\\bar{f}, f_{i-1} + \\Delta) \\\\\n",
    "\\Delta = f_{i-1} \\cdot \\beta \\quad \\text{avec} \\quad \\beta \\in (0, \\infty[\n",
    "\\end{cases}$"
   ]
  },
  {
   "cell_type": "code",
   "execution_count": 211,
   "metadata": {},
   "outputs": [],
   "source": [
    "def estimate_fi_2(f_prev: float, f_bar: float, beta: float) -> float:\n",
    "    delta = f_prev * beta\n",
    "    return min(f_bar, f_prev + delta)"
   ]
  },
  {
   "cell_type": "markdown",
   "metadata": {},
   "source": [
    "**Troisième fonction :** croissance proportionnelle\n",
    "\n",
    "- $\\Delta = \\bar{f} \\cdot \\beta \\text{ avec} \\quad \\beta \\in (0, 1]$"
   ]
  },
  {
   "cell_type": "code",
   "execution_count": 212,
   "metadata": {},
   "outputs": [],
   "source": [
    "def estimate_fi_3(f_prev: float, f_bar: float, beta: float) -> float:\n",
    "    delta = f_bar * beta\n",
    "    return min(f_bar, f_prev + delta)"
   ]
  },
  {
   "cell_type": "markdown",
   "metadata": {},
   "source": [
    "### Modèle de simulation du Data Center de GPU pour une période (en mois)"
   ]
  },
  {
   "cell_type": "markdown",
   "metadata": {},
   "source": [
    "La fonction `model` met à jour l'état du parc de GPU en fonction des besoins en performance et en consommation. Elle commence par actualiser la durée de vie des GPU et retirer ceux qui sont obsolètes. Ensuite, elle détermine le type de GPU le plus récent et calcule combien de GPU supplémentaires sont nécessaires pour atteindre les performances requises. Si des GPU doivent être ajoutés, elle les intègre au parc et ajuste les données en conséquence. La fonction met également à jour le taux d'utilisation des GPU si des données historiques sont disponibles, et calcule les totaux pour la consommation énergétique, les performances en TFLOPS, et le coût des GPU ajoutés. Le DataFrame mis à jour, ainsi que les totaux et les indicateurs sont renvoyés."
   ]
  },
  {
   "cell_type": "code",
   "execution_count": 213,
   "metadata": {},
   "outputs": [],
   "source": [
    "def model(df_data_GPU: pd.DataFrame, df_GPU_park: pd.DataFrame, dict_variables: dict[str, int], dict_indicators: dict[str, int], flops_required: int, lifespan_months: int, usage_rate: float, current_year: int, current_month: int, estimate_fi_func: Callable[[float, float, float], float], f_prev: float, f_bar: float, c_i: float, alpha: float, beta: float) -> tuple[pd.DataFrame, int, float, float, float, int, int, float, dict[str, int], dict[str, float], float, float]:\n",
    "    tau = dict_variables.get('usage_rate')\n",
    "    df_GPU_park = update_lifespan_gpu(df_GPU_park, 1)\n",
    "    df_GPU_park, tflops_to_renewed = remove_gpu_lifespan(df_GPU_park, lifespan_months)\n",
    "    type_gpu, max_power_gpu, max_performance_gpu, price_gpu = most_recent_gpu(df_data_GPU, current_year, current_month)\n",
    "    dict_gpu = dict_type_gpu(df_GPU_park)\n",
    "    \n",
    "    available_flops = calculate_total_sum_variable(df_GPU_park, 'TFlop_Available', float)\n",
    "    nb_gpu_to_add, nb_gpu_to_renewed = how_many_gpu_needed(dict_variables, flops_required, max_performance_gpu, available_flops, tflops_to_renewed)\n",
    "    if nb_gpu_to_add != 0:\n",
    "        df_GPU_park = add_gpu_to_park(df_GPU_park, dict_variables, dict_indicators, nb_gpu_to_add, max_power_gpu, max_performance_gpu, price_gpu, usage_rate, type_gpu, current_year)\n",
    "        dict_gpu = dict_type_gpu(df_GPU_park)\n",
    "    if f_prev != 0 and f_bar != 0 and c_i != 0:\n",
    "        parameter = alpha if estimate_fi_func == estimate_fi_1 else beta\n",
    "        f_prev = estimate_fi_func(f_prev, f_bar, parameter)\n",
    "        tau = f_prev / c_i\n",
    "    df_GPU_park['Usage_Rate'] = tau\n",
    "    df_GPU_park = add_column_energy_consumption(df_GPU_park, df_data_GPU, dict_variables)\n",
    "    df_GPU_park = add_column_TFlops(df_GPU_park, df_data_GPU)\n",
    "    \n",
    "    for i in range(len(dict_indicators)):\n",
    "        df_GPU_park = add_column_usage(df_GPU_park, list(dict_indicators.values())[i][0], current_year, f'{list(dict_indicators.keys())[i]}_Usage', list(dict_indicators.values())[i][1])\n",
    "    \n",
    "    gpu_count = calculate_total_sum_variable(df_GPU_park, 'Total_GPU_Count', int)\n",
    "    energy_consumption = calculate_total_sum_variable(df_GPU_park, 'Energy_Consumption', float)\n",
    "    available_flops = calculate_total_sum_variable(df_GPU_park, 'TFlop_Available', float)\n",
    "    used_flops = calculate_total_sum_variable(df_GPU_park, 'TFlop_Used', float)\n",
    "    price_gpu = calculate_total_sum_variable(df_GPU_park, 'Price_GPU_Added', float)\n",
    "    \n",
    "    indicator_usage_totals = {f'{indicator}_Usage': calculate_total_sum_variable(df_GPU_park, f'{indicator}_Usage', float) for indicator in dict_indicators}\n",
    "\n",
    "    return df_GPU_park, gpu_count, energy_consumption, available_flops, used_flops, nb_gpu_to_add, nb_gpu_to_renewed, price_gpu, dict_gpu, indicator_usage_totals, tau, f_prev"
   ]
  },
  {
   "cell_type": "markdown",
   "metadata": {},
   "source": [
    "La fonction simule l'évolution d'un parc de GPU sur une période définie, en prenant en compte les besoins en TFLOPS et les caractéristiques des GPU. Un DataFrame mensuellement qui reflète les ajustements du parc, tels que l'ajout et le renouvellement de GPU, la consommation énergétique et les performances en TFLOPS. En intégrant les pics de demande et en utilisant des modèles pour estimer les variations de performance, la fonction compile les données essentielles pour une analyse détaillée de l'évolution du Data Center au cours de la période simulée."
   ]
  },
  {
   "cell_type": "code",
   "execution_count": 214,
   "metadata": {},
   "outputs": [],
   "source": [
    "def create_df_test_model(df_data_GPU: pd.DataFrame, df_GPU_park: pd.DataFrame, dict_variables: dict[str, int], dict_indicators: dict[str, int], duration_between_demand_multiplications: int, lifespan_months: int, \n",
    "                         list_gpu_rate_usage: list[float], tau: float, nb_months_experiment: int, estimate_fi_func: Callable[[float, float, float], float], current_year: int, current_month: int, alpha: float, beta: float) -> pd.DataFrame:\n",
    "    \n",
    "    list_flops_required = create_list_flops_per_year(df_GPU_park, df_data_GPU, dict_variables, duration_between_demand_multiplications)\n",
    "    df_month_list = []\n",
    "    TFlops_required_list = []\n",
    "    list_demand_peaks = identify_demand_peaks(list_flops_required, dict_variables)\n",
    "    \n",
    "    j = 0\n",
    "    f_bar, c_i = 0, 0\n",
    "    f_prev = int(df_GPU_park['TFlop_Used'].iloc[-1])\n",
    "    \n",
    "    for i in range(nb_months_experiment):\n",
    "        if j < len(list_demand_peaks) and i == list_demand_peaks[j][2]:\n",
    "            c_i = list_demand_peaks[j][1]\n",
    "            f_bar = c_i * tau\n",
    "            j += 1\n",
    "        model_res = model(df_data_GPU, df_GPU_park, dict_variables, dict_indicators, list_flops_required[i], lifespan_months, \n",
    "                          list_gpu_rate_usage[i], current_year, current_month, estimate_fi_func, f_prev, f_bar, c_i, alpha, beta)\n",
    "        \n",
    "        data_month = pd.DataFrame([model_res[1:11]], columns=['Total_GPU_Count', 'Energy_Consumption', 'TFlop_Available', 'TFlop_Used', 'GPU_Added', \n",
    "                                                             'GPU_Renewed', 'Price_GPU_Added', 'GPU_Types', 'Indicator_Usage_Totals', 'Usage_Rate'])\n",
    "        \n",
    "        f_prev = model_res[11]\n",
    "\n",
    "        data_month['Month'] = current_month\n",
    "        data_month['Year'] = current_year\n",
    "        \n",
    "        indicator_usage_totals = model_res[9]\n",
    "        for indicator, usage_total in indicator_usage_totals.items():\n",
    "            data_month[indicator] = usage_total\n",
    "        \n",
    "        TFlops_required_list.append(list_flops_required[i])\n",
    "        df_month_list.append(data_month)\n",
    "\n",
    "        df_GPU_park = model_res[0]  # mettre à jour le centre\n",
    "        \n",
    "        if current_month<12:\n",
    "            current_month += 1\n",
    "        else:\n",
    "            current_year += 1\n",
    "            current_month =1\n",
    "            \n",
    "        if i == 0: # lors de la création du centre\n",
    "            data_month['GPU_Added'] = data_month['Total_GPU_Count']\n",
    "            \n",
    "    df = pd.concat(df_month_list, ignore_index=True)\n",
    "    \n",
    "    df['TFlops_Required'] = TFlops_required_list\n",
    "    df['Date'] = df['Year'].astype(str) + '-' + df['Month'].astype(str).str.zfill(2)\n",
    "    df = df.reindex(['Date', 'Total_GPU_Count', 'GPU_Added', 'GPU_Renewed', 'GPU_Types', 'Usage_Rate', 'Energy_Consumption', 'TFlops_Required', \n",
    "                     'TFlop_Available', 'TFlop_Used', 'Price_GPU_Added'] + list(indicator_usage_totals.keys()), axis=1)\n",
    "    \n",
    "    for indicator in dict_indicators:\n",
    "        df[f'{indicator}_Production_from_added'] = df.apply(lambda row: resource_consumption_gpu_production(df_data_GPU, row, 'GPU_Added', \n",
    "                                                                    dict_variables.get('nb_gpu_regroupement'), dict_indicators[indicator][3], f'{indicator}_Production'), axis=1)\n",
    "        df[f'{indicator}_Production_from_renewed'] = df.apply(lambda row: resource_consumption_gpu_production(df_data_GPU, row, 'GPU_Renewed', \n",
    "                                                                    dict_variables.get('nb_gpu_regroupement'), dict_indicators[indicator][3], f'{indicator}_Production'), axis=1)  \n",
    "\n",
    "    return df"
   ]
  },
  {
   "cell_type": "code",
   "execution_count": 215,
   "metadata": {},
   "outputs": [
    {
     "data": {
      "text/html": [
       "<div>\n",
       "<style scoped>\n",
       "    .dataframe tbody tr th:only-of-type {\n",
       "        vertical-align: middle;\n",
       "    }\n",
       "\n",
       "    .dataframe tbody tr th {\n",
       "        vertical-align: top;\n",
       "    }\n",
       "\n",
       "    .dataframe thead th {\n",
       "        text-align: right;\n",
       "    }\n",
       "</style>\n",
       "<table border=\"1\" class=\"dataframe\">\n",
       "  <thead>\n",
       "    <tr style=\"text-align: right;\">\n",
       "      <th></th>\n",
       "      <th>Date</th>\n",
       "      <th>Total_GPU_Count</th>\n",
       "      <th>GPU_Added</th>\n",
       "      <th>GPU_Renewed</th>\n",
       "      <th>GPU_Types</th>\n",
       "      <th>Usage_Rate</th>\n",
       "      <th>Energy_Consumption</th>\n",
       "      <th>TFlops_Required</th>\n",
       "      <th>TFlop_Available</th>\n",
       "      <th>TFlop_Used</th>\n",
       "      <th>...</th>\n",
       "      <th>Abiotic_Depletion_Usage</th>\n",
       "      <th>Electronic_Waste_Usage</th>\n",
       "      <th>CO2_Emissions_Production_from_added</th>\n",
       "      <th>CO2_Emissions_Production_from_renewed</th>\n",
       "      <th>Water_Consumption_Production_from_added</th>\n",
       "      <th>Water_Consumption_Production_from_renewed</th>\n",
       "      <th>Abiotic_Depletion_Production_from_added</th>\n",
       "      <th>Abiotic_Depletion_Production_from_renewed</th>\n",
       "      <th>Electronic_Waste_Production_from_added</th>\n",
       "      <th>Electronic_Waste_Production_from_renewed</th>\n",
       "    </tr>\n",
       "  </thead>\n",
       "  <tbody>\n",
       "    <tr>\n",
       "      <th>0</th>\n",
       "      <td>2019-01</td>\n",
       "      <td>8152</td>\n",
       "      <td>8152</td>\n",
       "      <td>0</td>\n",
       "      <td>{'V100': 8152}</td>\n",
       "      <td>0.800000</td>\n",
       "      <td>18653080</td>\n",
       "      <td>1019000.0</td>\n",
       "      <td>1019000</td>\n",
       "      <td>8.152000e+05</td>\n",
       "      <td>...</td>\n",
       "      <td>0</td>\n",
       "      <td>0</td>\n",
       "      <td>968050</td>\n",
       "      <td>0</td>\n",
       "      <td>3974100</td>\n",
       "      <td>0</td>\n",
       "      <td>285.32</td>\n",
       "      <td>0.0</td>\n",
       "      <td>23946.5</td>\n",
       "      <td>0.0</td>\n",
       "    </tr>\n",
       "    <tr>\n",
       "      <th>1</th>\n",
       "      <td>2019-02</td>\n",
       "      <td>8152</td>\n",
       "      <td>0</td>\n",
       "      <td>0</td>\n",
       "      <td>{'V100': 8152}</td>\n",
       "      <td>0.800000</td>\n",
       "      <td>18653080</td>\n",
       "      <td>1019000.0</td>\n",
       "      <td>1019000</td>\n",
       "      <td>8.152000e+05</td>\n",
       "      <td>...</td>\n",
       "      <td>0</td>\n",
       "      <td>0</td>\n",
       "      <td>0</td>\n",
       "      <td>0</td>\n",
       "      <td>0</td>\n",
       "      <td>0</td>\n",
       "      <td>0.00</td>\n",
       "      <td>0.0</td>\n",
       "      <td>0.0</td>\n",
       "      <td>0.0</td>\n",
       "    </tr>\n",
       "    <tr>\n",
       "      <th>2</th>\n",
       "      <td>2019-03</td>\n",
       "      <td>8152</td>\n",
       "      <td>0</td>\n",
       "      <td>0</td>\n",
       "      <td>{'V100': 8152}</td>\n",
       "      <td>0.800000</td>\n",
       "      <td>18653080</td>\n",
       "      <td>1019000.0</td>\n",
       "      <td>1019000</td>\n",
       "      <td>8.152000e+05</td>\n",
       "      <td>...</td>\n",
       "      <td>0</td>\n",
       "      <td>0</td>\n",
       "      <td>0</td>\n",
       "      <td>0</td>\n",
       "      <td>0</td>\n",
       "      <td>0</td>\n",
       "      <td>0.00</td>\n",
       "      <td>0.0</td>\n",
       "      <td>0.0</td>\n",
       "      <td>0.0</td>\n",
       "    </tr>\n",
       "    <tr>\n",
       "      <th>3</th>\n",
       "      <td>2019-04</td>\n",
       "      <td>8152</td>\n",
       "      <td>0</td>\n",
       "      <td>0</td>\n",
       "      <td>{'V100': 8152}</td>\n",
       "      <td>0.800000</td>\n",
       "      <td>18653080</td>\n",
       "      <td>1019000.0</td>\n",
       "      <td>1019000</td>\n",
       "      <td>8.152000e+05</td>\n",
       "      <td>...</td>\n",
       "      <td>0</td>\n",
       "      <td>0</td>\n",
       "      <td>0</td>\n",
       "      <td>0</td>\n",
       "      <td>0</td>\n",
       "      <td>0</td>\n",
       "      <td>0.00</td>\n",
       "      <td>0.0</td>\n",
       "      <td>0.0</td>\n",
       "      <td>0.0</td>\n",
       "    </tr>\n",
       "    <tr>\n",
       "      <th>4</th>\n",
       "      <td>2019-05</td>\n",
       "      <td>8152</td>\n",
       "      <td>0</td>\n",
       "      <td>0</td>\n",
       "      <td>{'V100': 8152}</td>\n",
       "      <td>0.800000</td>\n",
       "      <td>18653080</td>\n",
       "      <td>1019000.0</td>\n",
       "      <td>1019000</td>\n",
       "      <td>8.152000e+05</td>\n",
       "      <td>...</td>\n",
       "      <td>0</td>\n",
       "      <td>0</td>\n",
       "      <td>0</td>\n",
       "      <td>0</td>\n",
       "      <td>0</td>\n",
       "      <td>0</td>\n",
       "      <td>0.00</td>\n",
       "      <td>0.0</td>\n",
       "      <td>0.0</td>\n",
       "      <td>0.0</td>\n",
       "    </tr>\n",
       "    <tr>\n",
       "      <th>...</th>\n",
       "      <td>...</td>\n",
       "      <td>...</td>\n",
       "      <td>...</td>\n",
       "      <td>...</td>\n",
       "      <td>...</td>\n",
       "      <td>...</td>\n",
       "      <td>...</td>\n",
       "      <td>...</td>\n",
       "      <td>...</td>\n",
       "      <td>...</td>\n",
       "      <td>...</td>\n",
       "      <td>...</td>\n",
       "      <td>...</td>\n",
       "      <td>...</td>\n",
       "      <td>...</td>\n",
       "      <td>...</td>\n",
       "      <td>...</td>\n",
       "      <td>...</td>\n",
       "      <td>...</td>\n",
       "      <td>...</td>\n",
       "      <td>...</td>\n",
       "    </tr>\n",
       "    <tr>\n",
       "      <th>79</th>\n",
       "      <td>2025-08</td>\n",
       "      <td>3192</td>\n",
       "      <td>0</td>\n",
       "      <td>0</td>\n",
       "      <td>{'H100': 3192}</td>\n",
       "      <td>0.799998</td>\n",
       "      <td>14658137</td>\n",
       "      <td>6368750.0</td>\n",
       "      <td>6384000</td>\n",
       "      <td>5.107187e+06</td>\n",
       "      <td>...</td>\n",
       "      <td>0</td>\n",
       "      <td>0</td>\n",
       "      <td>0</td>\n",
       "      <td>0</td>\n",
       "      <td>0</td>\n",
       "      <td>0</td>\n",
       "      <td>0.00</td>\n",
       "      <td>0.0</td>\n",
       "      <td>0.0</td>\n",
       "      <td>0.0</td>\n",
       "    </tr>\n",
       "    <tr>\n",
       "      <th>80</th>\n",
       "      <td>2025-09</td>\n",
       "      <td>3192</td>\n",
       "      <td>0</td>\n",
       "      <td>0</td>\n",
       "      <td>{'H100': 3192}</td>\n",
       "      <td>0.799999</td>\n",
       "      <td>14658154</td>\n",
       "      <td>6368750.0</td>\n",
       "      <td>6384000</td>\n",
       "      <td>5.107193e+06</td>\n",
       "      <td>...</td>\n",
       "      <td>0</td>\n",
       "      <td>0</td>\n",
       "      <td>0</td>\n",
       "      <td>0</td>\n",
       "      <td>0</td>\n",
       "      <td>0</td>\n",
       "      <td>0.00</td>\n",
       "      <td>0.0</td>\n",
       "      <td>0.0</td>\n",
       "      <td>0.0</td>\n",
       "    </tr>\n",
       "    <tr>\n",
       "      <th>81</th>\n",
       "      <td>2025-10</td>\n",
       "      <td>3192</td>\n",
       "      <td>0</td>\n",
       "      <td>0</td>\n",
       "      <td>{'H100': 3192}</td>\n",
       "      <td>0.799999</td>\n",
       "      <td>14658164</td>\n",
       "      <td>6368750.0</td>\n",
       "      <td>6384000</td>\n",
       "      <td>5.107197e+06</td>\n",
       "      <td>...</td>\n",
       "      <td>0</td>\n",
       "      <td>0</td>\n",
       "      <td>0</td>\n",
       "      <td>0</td>\n",
       "      <td>0</td>\n",
       "      <td>0</td>\n",
       "      <td>0.00</td>\n",
       "      <td>0.0</td>\n",
       "      <td>0.0</td>\n",
       "      <td>0.0</td>\n",
       "    </tr>\n",
       "    <tr>\n",
       "      <th>82</th>\n",
       "      <td>2025-11</td>\n",
       "      <td>3192</td>\n",
       "      <td>0</td>\n",
       "      <td>0</td>\n",
       "      <td>{'H100': 3192}</td>\n",
       "      <td>0.800000</td>\n",
       "      <td>14658169</td>\n",
       "      <td>6368750.0</td>\n",
       "      <td>6384000</td>\n",
       "      <td>5.107198e+06</td>\n",
       "      <td>...</td>\n",
       "      <td>0</td>\n",
       "      <td>0</td>\n",
       "      <td>0</td>\n",
       "      <td>0</td>\n",
       "      <td>0</td>\n",
       "      <td>0</td>\n",
       "      <td>0.00</td>\n",
       "      <td>0.0</td>\n",
       "      <td>0.0</td>\n",
       "      <td>0.0</td>\n",
       "    </tr>\n",
       "    <tr>\n",
       "      <th>83</th>\n",
       "      <td>2025-12</td>\n",
       "      <td>3192</td>\n",
       "      <td>0</td>\n",
       "      <td>0</td>\n",
       "      <td>{'H100': 3192}</td>\n",
       "      <td>0.800000</td>\n",
       "      <td>14658171</td>\n",
       "      <td>6368750.0</td>\n",
       "      <td>6384000</td>\n",
       "      <td>5.107199e+06</td>\n",
       "      <td>...</td>\n",
       "      <td>0</td>\n",
       "      <td>0</td>\n",
       "      <td>0</td>\n",
       "      <td>0</td>\n",
       "      <td>0</td>\n",
       "      <td>0</td>\n",
       "      <td>0.00</td>\n",
       "      <td>0.0</td>\n",
       "      <td>0.0</td>\n",
       "      <td>0.0</td>\n",
       "    </tr>\n",
       "  </tbody>\n",
       "</table>\n",
       "<p>84 rows × 23 columns</p>\n",
       "</div>"
      ],
      "text/plain": [
       "       Date  Total_GPU_Count  GPU_Added  GPU_Renewed       GPU_Types  \\\n",
       "0   2019-01             8152       8152            0  {'V100': 8152}   \n",
       "1   2019-02             8152          0            0  {'V100': 8152}   \n",
       "2   2019-03             8152          0            0  {'V100': 8152}   \n",
       "3   2019-04             8152          0            0  {'V100': 8152}   \n",
       "4   2019-05             8152          0            0  {'V100': 8152}   \n",
       "..      ...              ...        ...          ...             ...   \n",
       "79  2025-08             3192          0            0  {'H100': 3192}   \n",
       "80  2025-09             3192          0            0  {'H100': 3192}   \n",
       "81  2025-10             3192          0            0  {'H100': 3192}   \n",
       "82  2025-11             3192          0            0  {'H100': 3192}   \n",
       "83  2025-12             3192          0            0  {'H100': 3192}   \n",
       "\n",
       "    Usage_Rate  Energy_Consumption  TFlops_Required  TFlop_Available  \\\n",
       "0     0.800000            18653080        1019000.0          1019000   \n",
       "1     0.800000            18653080        1019000.0          1019000   \n",
       "2     0.800000            18653080        1019000.0          1019000   \n",
       "3     0.800000            18653080        1019000.0          1019000   \n",
       "4     0.800000            18653080        1019000.0          1019000   \n",
       "..         ...                 ...              ...              ...   \n",
       "79    0.799998            14658137        6368750.0          6384000   \n",
       "80    0.799999            14658154        6368750.0          6384000   \n",
       "81    0.799999            14658164        6368750.0          6384000   \n",
       "82    0.800000            14658169        6368750.0          6384000   \n",
       "83    0.800000            14658171        6368750.0          6384000   \n",
       "\n",
       "      TFlop_Used  ...  Abiotic_Depletion_Usage  Electronic_Waste_Usage  \\\n",
       "0   8.152000e+05  ...                        0                       0   \n",
       "1   8.152000e+05  ...                        0                       0   \n",
       "2   8.152000e+05  ...                        0                       0   \n",
       "3   8.152000e+05  ...                        0                       0   \n",
       "4   8.152000e+05  ...                        0                       0   \n",
       "..           ...  ...                      ...                     ...   \n",
       "79  5.107187e+06  ...                        0                       0   \n",
       "80  5.107193e+06  ...                        0                       0   \n",
       "81  5.107197e+06  ...                        0                       0   \n",
       "82  5.107198e+06  ...                        0                       0   \n",
       "83  5.107199e+06  ...                        0                       0   \n",
       "\n",
       "    CO2_Emissions_Production_from_added  \\\n",
       "0                                968050   \n",
       "1                                     0   \n",
       "2                                     0   \n",
       "3                                     0   \n",
       "4                                     0   \n",
       "..                                  ...   \n",
       "79                                    0   \n",
       "80                                    0   \n",
       "81                                    0   \n",
       "82                                    0   \n",
       "83                                    0   \n",
       "\n",
       "    CO2_Emissions_Production_from_renewed  \\\n",
       "0                                       0   \n",
       "1                                       0   \n",
       "2                                       0   \n",
       "3                                       0   \n",
       "4                                       0   \n",
       "..                                    ...   \n",
       "79                                      0   \n",
       "80                                      0   \n",
       "81                                      0   \n",
       "82                                      0   \n",
       "83                                      0   \n",
       "\n",
       "    Water_Consumption_Production_from_added  \\\n",
       "0                                   3974100   \n",
       "1                                         0   \n",
       "2                                         0   \n",
       "3                                         0   \n",
       "4                                         0   \n",
       "..                                      ...   \n",
       "79                                        0   \n",
       "80                                        0   \n",
       "81                                        0   \n",
       "82                                        0   \n",
       "83                                        0   \n",
       "\n",
       "    Water_Consumption_Production_from_renewed  \\\n",
       "0                                           0   \n",
       "1                                           0   \n",
       "2                                           0   \n",
       "3                                           0   \n",
       "4                                           0   \n",
       "..                                        ...   \n",
       "79                                          0   \n",
       "80                                          0   \n",
       "81                                          0   \n",
       "82                                          0   \n",
       "83                                          0   \n",
       "\n",
       "    Abiotic_Depletion_Production_from_added  \\\n",
       "0                                    285.32   \n",
       "1                                      0.00   \n",
       "2                                      0.00   \n",
       "3                                      0.00   \n",
       "4                                      0.00   \n",
       "..                                      ...   \n",
       "79                                     0.00   \n",
       "80                                     0.00   \n",
       "81                                     0.00   \n",
       "82                                     0.00   \n",
       "83                                     0.00   \n",
       "\n",
       "    Abiotic_Depletion_Production_from_renewed  \\\n",
       "0                                         0.0   \n",
       "1                                         0.0   \n",
       "2                                         0.0   \n",
       "3                                         0.0   \n",
       "4                                         0.0   \n",
       "..                                        ...   \n",
       "79                                        0.0   \n",
       "80                                        0.0   \n",
       "81                                        0.0   \n",
       "82                                        0.0   \n",
       "83                                        0.0   \n",
       "\n",
       "    Electronic_Waste_Production_from_added  \\\n",
       "0                                  23946.5   \n",
       "1                                      0.0   \n",
       "2                                      0.0   \n",
       "3                                      0.0   \n",
       "4                                      0.0   \n",
       "..                                     ...   \n",
       "79                                     0.0   \n",
       "80                                     0.0   \n",
       "81                                     0.0   \n",
       "82                                     0.0   \n",
       "83                                     0.0   \n",
       "\n",
       "    Electronic_Waste_Production_from_renewed  \n",
       "0                                        0.0  \n",
       "1                                        0.0  \n",
       "2                                        0.0  \n",
       "3                                        0.0  \n",
       "4                                        0.0  \n",
       "..                                       ...  \n",
       "79                                       0.0  \n",
       "80                                       0.0  \n",
       "81                                       0.0  \n",
       "82                                       0.0  \n",
       "83                                       0.0  \n",
       "\n",
       "[84 rows x 23 columns]"
      ]
     },
     "execution_count": 215,
     "metadata": {},
     "output_type": "execute_result"
    }
   ],
   "source": [
    "df_test_model = create_df_test_model(df_data_GPU, df_GPU_park, dict_variables, dict_indicators, dict_variables.get('duration_between_demand_multiplications'),\n",
    "                                     dict_variables.get('Lifespan_Months'), list_gpu_rate_usage, dict_variables.get('usage_rate'), \n",
    "                                     dict_variables.get('nb_months_experiment'), estimate_fi_1, dict_variables.get('current_year'), \n",
    "                                     dict_variables.get('current_month'), dict_variables.get('alpha'), dict_variables.get('beta'))\n",
    "\n",
    "#df_test_model.to_csv('data/df_test_model.csv', index=False)\n",
    "df_test_model"
   ]
  },
  {
   "cell_type": "markdown",
   "metadata": {},
   "source": [
    "___"
   ]
  },
  {
   "cell_type": "markdown",
   "metadata": {},
   "source": [
    "# Visualisation des données - utilisation de la bibliothèque [**Plotly**](https://plotly.com/python/)"
   ]
  },
  {
   "cell_type": "markdown",
   "metadata": {},
   "source": [
    "## Divers fonctions : traitement et analyse des Données du Data Center"
   ]
  },
  {
   "cell_type": "markdown",
   "metadata": {},
   "source": [
    "### Conversion des valeurs numériques"
   ]
  },
  {
   "cell_type": "markdown",
   "metadata": {},
   "source": [
    "Simplifie les grandes valeurs numériques en unités plus lisibles. Selon que la valeur représente un prix ou non, elle convertit les nombres en préfixes comme Kilo, Mega, Giga, et Téra ou en millions ou milliards. Elle retourne la valeur convertie avec son unité correspondante, arrondie à deux décimales."
   ]
  },
  {
   "cell_type": "code",
   "execution_count": 216,
   "metadata": {},
   "outputs": [],
   "source": [
    "def convert_values(value: float, price: bool = False) -> tuple[float, str]:\n",
    "    value_converted, unit = value, None\n",
    "    if price==True :\n",
    "        if value >= 1_000_000_000:\n",
    "            value_converted = value / 1_000_000_000\n",
    "            unit = 'Billion' \n",
    "        elif value >= 1_000_000:\n",
    "            value_converted = value / 1_000_000\n",
    "            unit = 'Million'\n",
    "        if value_converted > 1:\n",
    "            unit += 's'\n",
    "    else:\n",
    "        if value >= 1_000_000_000_000:\n",
    "            value_converted = value / 1_000_000_000_000\n",
    "            unit = 'T'\n",
    "        elif value >= 1_000_000_000:\n",
    "            value_converted = value / 1_000_000_000\n",
    "            unit = 'G'\n",
    "        elif value >= 1_000_000:\n",
    "            value_converted = value / 1_000_000\n",
    "            unit = 'M'\n",
    "        elif value >= 1_000:\n",
    "            value_converted = value / 1_000\n",
    "            unit = 'K'\n",
    "        \n",
    "    return round(value_converted, 2), unit or ''"
   ]
  },
  {
   "cell_type": "markdown",
   "metadata": {},
   "source": [
    "### Identification des années d'ajout de GPU à partir d'une colonne spécifique"
   ]
  },
  {
   "cell_type": "code",
   "execution_count": 217,
   "metadata": {},
   "outputs": [],
   "source": [
    "def get_list_year_changes(df_test_model: pd.DataFrame, column: str) -> list[pd.Timestamp]:\n",
    "    list_year_of_gpu_changed = []\n",
    "    for i in range(df_test_model.shape[0]):\n",
    "        if df_test_model[column].iloc[i] > 0:\n",
    "            list_year_of_gpu_changed.append(df_test_model['Date'].iloc[i])\n",
    "    return list_year_of_gpu_changed"
   ]
  },
  {
   "cell_type": "markdown",
   "metadata": {},
   "source": [
    "### Fonction pour Générer la liste des années d'ajout de GPU selon le type de raison\n",
    "\n",
    "La fonction détermine les années spécifiques d'ajout de GPU en fonction du type de raison indiqué. Selon la valeur de `line_indications`, elle calcule les années où des GPU ont été ajoutés pour la demande, le renouvellement, ou les deux. Si l'indication est \"Demande\", elle soustrait les GPU renouvelés des GPU ajoutés pour obtenir les années pertinentes. Pour \"Renewal\", elle utilise directement les données des GPU renouvelés, et pour \"Demande and Renewal\", elle prend en compte tous les GPU ajoutés. Si aucune indication n'est spécifiée, la fonction retourne une liste vide."
   ]
  },
  {
   "cell_type": "code",
   "execution_count": 218,
   "metadata": {},
   "outputs": [],
   "source": [
    "def get_line_indications(df_test_model: pd.DataFrame, line_indications: str) -> list[pd.Timestamp]:\n",
    "    if line_indications == 'None':\n",
    "        tear_gpu_added = []\n",
    "    elif line_indications == 'Demande':\n",
    "        df_test_model['Nb_GPU_added_demand'] = df_test_model['GPU_Added'] - df_test_model['GPU_Renewed']\n",
    "        tear_gpu_added = get_list_year_changes(df_test_model, 'Nb_GPU_added_demand')\n",
    "    elif line_indications == 'Renewal':\n",
    "        tear_gpu_added = get_list_year_changes(df_test_model, 'GPU_Renewed')\n",
    "    elif line_indications == 'Demande and Renewal':\n",
    "        tear_gpu_added = get_list_year_changes(df_test_model, 'GPU_Added')\n",
    "    return tear_gpu_added"
   ]
  },
  {
   "cell_type": "markdown",
   "metadata": {},
   "source": [
    "### Calcul de la production mensuelle des indicateurs selon la méthode 'Stock'**\n",
    "\n",
    "Ajoute des colonnes au DataFrame pour la méthode de calcul 'Stock'. Calcule la production mensuelle pour chaque indicateur basé sur les valeurs de production des GPU ajoutés et leur durée de vie. Ces valeurs sont ensuite utilisées pour remplir les colonnes correspondant à la production mensuelle des GPU pendant leur durée de vie, facilitant ainsi la visualisation des émissions de CO2."
   ]
  },
  {
   "cell_type": "code",
   "execution_count": 219,
   "metadata": {},
   "outputs": [],
   "source": [
    "def get_df_method_stock(df_test_model: pd.DataFrame, indicator_name: str) -> pd.DataFrame:\n",
    "    lifespan_months = dict_variables.get('Lifespan_Months')\n",
    "\n",
    "    df_test_model[f\"{indicator_name}_Production_from_added\"] = df_test_model[f\"{indicator_name}_Production_from_added\"].astype(float)\n",
    "    df_test_model[f\"{indicator_name}_per_month_of_life_span\"] = 0.0\n",
    "\n",
    "    for i in range(df_test_model.shape[0]):\n",
    "        if df_test_model.at[i, f\"{indicator_name}_Production_from_added\"] > 0:\n",
    "            production_per_month = df_test_model.at[i, f\"{indicator_name}_Production_from_added\"] / lifespan_months\n",
    "            end_index = min(i + lifespan_months, df_test_model.shape[0])\n",
    "            df_test_model.loc[i:end_index - 1, f\"{indicator_name}_per_month_of_life_span\"] += production_per_month\n",
    "\n",
    "    return df_test_model"
   ]
  },
  {
   "cell_type": "markdown",
   "metadata": {},
   "source": [
    "### Génération des noms des graphiques à partir des indicateurs"
   ]
  },
  {
   "cell_type": "markdown",
   "metadata": {},
   "source": [
    "La fonction crée une liste de noms de graphiques à partir des clés et valeurs d'un dictionnaire d'indicateurs. Elle reformate les clés du dictionnaire en chaînes lisibles en remplaçant les underscores par des espaces et en ajoutant l'unité de mesure correspondante, tirée des valeurs associées à chaque clé. Cette liste est ensuite utilisée pour générer des titres clairs et informatifs pour les graphiques de visualisation des données."
   ]
  },
  {
   "cell_type": "code",
   "execution_count": 220,
   "metadata": {},
   "outputs": [],
   "source": [
    "def get_list_indicators_to_graph(dict_indicators: dict[str, list]) -> list[str]:\n",
    "    list_graphs_name_indicators = []\n",
    "    for i in range(len(dict_indicators)):\n",
    "        name_graph = list(dict_indicators.keys())[i].split('_')\n",
    "        name_graph = ' '.join(name_graph) + ' in ' +  list(dict_indicators.values())[i][2]\n",
    "        list_graphs_name_indicators.append(name_graph)\n",
    "    return list_graphs_name_indicators"
   ]
  },
  {
   "cell_type": "code",
   "execution_count": 221,
   "metadata": {},
   "outputs": [],
   "source": [
    "list_graphs_name_indicators = get_list_indicators_to_graph(dict_indicators)"
   ]
  },
  {
   "cell_type": "markdown",
   "metadata": {},
   "source": [
    "___"
   ]
  },
  {
   "cell_type": "markdown",
   "metadata": {},
   "source": [
    "## Fonctions de visualisation des données basées sur des Widgets interactifs"
   ]
  },
  {
   "cell_type": "markdown",
   "metadata": {},
   "source": [
    "### TFLops - Scatter plot\n",
    "\n",
    "Génère un graphique pour visualiser les performances en TFLOPS à l'aide de Plotly. Elle trace trois courbes : les TFLOPS utilisés, les TFLOPS requis et les TFLOPS disponibles. Elle ajoute également des lignes verticales pour indiquer les années de changement significatif de GPU, et ajuste l'axe des ordonnées pour commencer à zéro et s'adapter aux données."
   ]
  },
  {
   "cell_type": "code",
   "execution_count": 222,
   "metadata": {},
   "outputs": [],
   "source": [
    "def plot_tflops(fig: go.Figure, df_test_model: pd.DataFrame, row: int, col: int, list_year_of_gpu_changed: list) -> None:\n",
    "    traces = [\n",
    "        {'y': df_test_model['TFlop_Used'],\n",
    "            'name': 'Number of TFLOPS Used',\n",
    "            'line': {}\n",
    "        },\n",
    "        {\n",
    "            'y': df_test_model['TFlops_Required'],\n",
    "            'name': 'Number of TFLOPS Required',\n",
    "            'line': {'dash': 'dash', 'color': 'rgba(255, 0, 0, 0.5)'}\n",
    "        },\n",
    "        {\n",
    "            'y': df_test_model['TFlop_Available'],\n",
    "            'name': 'Number of TFLOPS Available',\n",
    "            'line': {'color': 'rgba(0, 255, 0, 0.5)'}\n",
    "        }\n",
    "    ]\n",
    "\n",
    "    for trace in traces:\n",
    "        fig.add_trace(\n",
    "            go.Scatter(x=df_test_model['Date'], y=trace['y'], mode='lines', name=trace['name'], line=trace.get('line')),\n",
    "            row=row, col=col\n",
    "        )\n",
    "    \n",
    "    for i in list_year_of_gpu_changed:\n",
    "        fig.add_vline(x=i, line_color= 'grey', line_dash = 'dash')\n",
    "        \n",
    "    fig.update_yaxes(\n",
    "        range=[0, None],\n",
    "        row=row, col=col\n",
    "    )"
   ]
  },
  {
   "cell_type": "markdown",
   "metadata": {},
   "source": [
    "### Taux d'usage - Scatter plot \n",
    "\n",
    "Trace le taux d'utilisation des GPU sur un graphique. Elle ajoute une courbe représentant le taux d'utilisation des GPU et inclut des lignes verticales pour marquer les années où des changements importants de GPU ont eu lieu."
   ]
  },
  {
   "cell_type": "code",
   "execution_count": 223,
   "metadata": {},
   "outputs": [],
   "source": [
    "def plot_gpu_usage_rate(fig: go.Figure, df_test_model: pd.DataFrame, row: int, col: int, list_year_of_gpu_changed: int) -> None:\n",
    "    fig.add_trace(\n",
    "        go.Scatter(x=df_test_model['Date'], y=df_test_model['Usage_Rate'], mode='lines', name='GPU Usage Rate', line=dict(color='rgba(0, 255, 255)')),\n",
    "        row=row, col=col\n",
    "    )\n",
    "    for i in list_year_of_gpu_changed:\n",
    "        fig.add_vline(x=i, line_color= 'grey', line_dash = 'dash')"
   ]
  },
  {
   "cell_type": "markdown",
   "metadata": {},
   "source": [
    "### Consomation énérgetique - Scatter plot\n",
    "\n",
    "Génère un graphique montrant la consommation d'énergie du centre de données. Deux options sont proposées : afficher la consommation d'énergie cumulée ou non, selon le paramètre `cumulative`. Le graphique est tracé avec une courbe représentant la consommation d'énergie en kWh, et des lignes verticales sont ajoutées pour indiquer les années de changements importants de GPU. Les axes sont ajustés pour afficher correctement les valeurs de consommation d'énergie."
   ]
  },
  {
   "cell_type": "code",
   "execution_count": 224,
   "metadata": {},
   "outputs": [],
   "source": [
    "def plot_data_center_energy_consumption(fig: go.Figure, df_test_model: pd.DataFrame, cumulative: str, row: int, col: int, list_year_of_gpu_changed: list) -> None:\n",
    "    y = df_test_model['Energy_Consumption'].cumsum() if cumulative == \"Cumulative\" else df_test_model['Energy_Consumption']\n",
    "    fig.add_trace(\n",
    "        go.Scatter(x=df_test_model['Date'], y=y, mode='lines', name='Energy Consumption in kWh', line=dict(color='rgba(255, 255, 0)')),\n",
    "        row=row, col=col\n",
    "    )\n",
    "    for i in list_year_of_gpu_changed:\n",
    "        fig.add_vline(x=i, line_color='grey', line_dash='dash')\n",
    "    \n",
    "    fig.update_yaxes(\n",
    "        range=[0, None],\n",
    "        row=row, col=col\n",
    "    )"
   ]
  },
  {
   "cell_type": "markdown",
   "metadata": {},
   "source": [
    "#### Nombre de nouveaux GPU ajoutés au Data Center - Bar plot\n",
    "\n",
    "Crée un graphique à barres illustrant le nombre de GPU ajoutés et renouvelés dans le centre de données. Elle calcule la différence entre les GPU ajoutés pour répondre à la demande et les GPU renouvelés, puis affiche ces valeurs sous forme de barres distinctes sur le graphique. Les lignes verticales marquent les années de changements importants de GPU. Les barres permettent de visualiser les variations mensuelles dans le nombre de GPU ajoutés et renouvelés."
   ]
  },
  {
   "cell_type": "code",
   "execution_count": 225,
   "metadata": {},
   "outputs": [],
   "source": [
    "def plot_number_of_gpus_added(fig: go.Figure, df_test_model: pd.DataFrame, row: int, col: int, list_year_of_gpu_changed: list) -> None:\n",
    "    df_test_model_copy = df_test_model.copy()\n",
    "    df_test_model_copy['Nb_GPU_added_renewed_diff'] = df_test_model_copy['GPU_Added'] - df_test_model_copy['GPU_Renewed']\n",
    "    df_test_model_copy.rename(columns={'Nb_GPU_added_renewed_diff': 'Number of GPUs added to meet demand',\n",
    "                                       'GPU_Renewed': 'Number of GPUs renewed'}, inplace=True)\n",
    "    \n",
    "    fig.add_trace(\n",
    "        go.Bar(x=df_test_model['Date'], y=df_test_model_copy['Number of GPUs added to meet demand'], name='Number of GPUs added to meet demand'),\n",
    "        row=row, col=col\n",
    "    )\n",
    "    fig.add_trace(\n",
    "        go.Bar(x=df_test_model['Date'], y=df_test_model_copy['Number of GPUs renewed'], name='Number of GPUs renewed'),\n",
    "        row=row, col=col\n",
    "    )\n",
    "    for i in list_year_of_gpu_changed:\n",
    "        fig.add_vline(x=i, line_color= 'grey', line_dash = 'dash')"
   ]
  },
  {
   "cell_type": "markdown",
   "metadata": {},
   "source": [
    "### Coût des GPU - Scatter plot\n",
    "\n",
    "Trace le coût des GPU ajoutés au centre de données sur un graphique, permettant de suivre l'évolution du coût des GPU ajoutés au fil du temps.. Ainis offre la possibilité de visualiser le coût total sous forme cumulative ou non, en fonction de l'argument `cumulative`. Les lignes verticales marquent les années où des changements significatifs ont eu lieu dans l'ajout de GPU. "
   ]
  },
  {
   "cell_type": "code",
   "execution_count": 226,
   "metadata": {},
   "outputs": [],
   "source": [
    "def plot_data_center_price(fig: go.Figure, df_test_model: pd.DataFrame, cumulative: str, row: int, col: int, list_year_of_gpu_changed: list) -> None:\n",
    "    y = df_test_model['Price_GPU_Added'].cumsum() if cumulative == \"Cumulative\" else df_test_model['Price_GPU_Added']\n",
    "    fig.add_trace(\n",
    "        go.Scatter(x=df_test_model['Date'], y=y, mode='lines', name='Coût des GPU ajoutés', line=dict(color='rgba(255, 255, 0)')),\n",
    "        row=row, col=col\n",
    "    )\n",
    "    for i in list_year_of_gpu_changed:\n",
    "        fig.add_vline(x=i, line_color='grey', line_dash='dash')\n",
    "    fig.update_yaxes(\n",
    "        range=[0, None],\n",
    "        row=row, col=col\n",
    "    )"
   ]
  },
  {
   "cell_type": "markdown",
   "metadata": {},
   "source": [
    "### Types des GPU - Bar plot\n",
    "\n",
    "Génère un graphique à barres empilées montrant la répartition des types de GPU au fil du temps. Elle convertit les dates, normalise les types de GPU en colonnes, et utilise des couleurs spécifiques pour chaque type. Les barres empilées illustrent la distribution cumulée des GPU, avec des lignes verticales marquant les années de changement."
   ]
  },
  {
   "cell_type": "code",
   "execution_count": 227,
   "metadata": {},
   "outputs": [],
   "source": [
    "def plot_gpu_distribution(fig: go.Figure, df: pd.DataFrame, row: int, col: int, list_year_of_gpu_changed: list) -> None:\n",
    "    df['Date'] = pd.to_datetime(df['Date'], format='%Y-%m')\n",
    "    df_gpu_types = pd.json_normalize(df['GPU_Types']).fillna(0)\n",
    "    dates = df['Date'].dt.strftime('%Y-%m')\n",
    "    \n",
    "    default_colors = {'V100': 'red', 'A100': 'orange', 'H100': 'green'}\n",
    "    colors = {gpu_type: default_colors.get(gpu_type, 'grey') for gpu_type in df_gpu_types.columns}\n",
    "\n",
    "    bottoms = pd.Series([0] * len(df))\n",
    "    \n",
    "    for gpu_type in df_gpu_types.columns:\n",
    "        fig.add_trace(go.Bar(\n",
    "            x=dates,\n",
    "            y=df_gpu_types[gpu_type],\n",
    "            name=gpu_type,\n",
    "            marker_color=colors[gpu_type],\n",
    "            base=bottoms,\n",
    "            showlegend=(row == 1 and col == 1)\n",
    "        ), row=row, col=col)\n",
    "        bottoms += df_gpu_types[gpu_type]\n",
    "    \n",
    "    for i in list_year_of_gpu_changed:\n",
    "        fig.add_vline(x=i, line_color= 'grey', line_dash = 'dash')\n",
    "\n",
    "    fig.update_layout(\n",
    "        barmode='stack',\n",
    "    )"
   ]
  },
  {
   "cell_type": "markdown",
   "metadata": {},
   "source": [
    "###  Indicateurs du dictionnaire `dict_indicators` - Scatter plot\n",
    "\n",
    "La fonction `add_traces` ajoute des courbes ou des histogrammes, selon le type de graphique, pour visualiser l'utilisation et la production de données. `get_ecumulative_data` prépare les données en cumulant les valeurs si nécessaire et retourne les séries pour l'utilisation et la production. Enfin, `plot_indicators` crée un graphique pour les indicateurs choisis, en utilisant `add_traces` pour afficher les données et marquer les changements de GPU avec des lignes verticales."
   ]
  },
  {
   "cell_type": "code",
   "execution_count": 228,
   "metadata": {},
   "outputs": [],
   "source": [
    "def add_traces(fig: go.Figure, df: pd.DataFrame, y_1: pd.Series, y_2: pd.Series, type_graph: str, row: int, col: int, name_graph: str, unit: str) -> None:\n",
    "    if type_graph == 'Scatter':\n",
    "        fig.add_trace(\n",
    "            go.Scatter(x=df['Date'], y=y_2, name=f'{name_graph} production in {unit}', stackgroup='one', line=dict(color=\"#EB6180\")),\n",
    "            row=row, col=col\n",
    "        )\n",
    "        fig.add_trace(\n",
    "            go.Scatter(x=df['Date'], y=y_1, name=f'{name_graph} usage in {unit}', stackgroup='one', line=dict(color=\"#78EAAC\")),\n",
    "            row=row, col=col\n",
    "        )\n",
    "    else:\n",
    "        fig.add_trace(\n",
    "            go.Bar(x=df['Date'], y=y_1, name=f'{name_graph} usage in {unit}', marker=dict(color=\"#78EAAC\")),\n",
    "            row=row, col=col\n",
    "        )\n",
    "        fig.add_trace(\n",
    "            go.Bar(x=df['Date'], y=y_2, name=f'{name_graph} production in {unit}', marker=dict(color=\"#EB6180\")),\n",
    "            row=row, col=col\n",
    "        )\n",
    "        fig.update_layout(barmode='stack')\n",
    "\n",
    "def get_ecumulative_data(df: pd.DataFrame, cumulative: str, usage_col: str, production_col: str) -> tuple[pd.Series, pd.Series]:\n",
    "    df[usage_col] = df[usage_col].astype(float)\n",
    "    df[production_col] = df[production_col].astype(float)\n",
    "    \n",
    "    y_1 = df[usage_col].cumsum() if cumulative == \"Cumulative\" else df[usage_col]\n",
    "    y_2 = df[production_col].cumsum() if cumulative == \"Cumulative\" else df[production_col]\n",
    "    return y_1, y_2\n",
    "\n",
    "def plot_indicators(fig: go.Figure, df_test_model: pd.DataFrame, cumulative: str, type_graph: str, methode_production_indicators: str, row: int, col: int, list_year_of_gpu_changed: list[str], indicator_name: str, unit: str) -> None:\n",
    "    if methode_production_indicators == 'Flux':\n",
    "        df_test_model[f'{indicator_name}_Total'] = df_test_model[f'{indicator_name}_Usage'] + df_test_model[f'{indicator_name}_Production_from_added']\n",
    "        y_1, y_2 = get_ecumulative_data(df_test_model, cumulative, f'{indicator_name}_Usage', f'{indicator_name}_Production_from_added')\n",
    "    else:\n",
    "        df_test_model = get_df_method_stock(df_test_model, indicator_name)\n",
    "        df_test_model[f'{indicator_name}_Total'] = df_test_model[f'{indicator_name}_Usage'] + df_test_model[f\"{indicator_name}_per_month_of_life_span\"]\n",
    "        y_1, y_2 = get_ecumulative_data(df_test_model, cumulative, f'{indicator_name}_Usage', f\"{indicator_name}_per_month_of_life_span\")\n",
    "\n",
    "    name_graph = indicator_name.split('_')\n",
    "    name_graph = ' '.join(name_graph)\n",
    "    add_traces(fig, df_test_model, y_1, y_2, type_graph, row, col, name_graph, unit)\n",
    "    \n",
    "    for i in list_year_of_gpu_changed:\n",
    "        fig.add_vline(x=i, line_color='grey', line_dash='dash')"
   ]
  },
  {
   "cell_type": "markdown",
   "metadata": {},
   "source": [
    "___"
   ]
  },
  {
   "cell_type": "markdown",
   "metadata": {},
   "source": [
    "## Initiation des [Widgets interactifs](https://ipywidgets.readthedocs.io/en/latest/examples/Widget%20List.html) pour la visualisation dynamique des données"
   ]
  },
  {
   "cell_type": "markdown",
   "metadata": {},
   "source": [
    "Les widgets permettent une personnalisation et une visualisation dynamique des données sur les GPU, incluant le choix des graphiques, la sélection de la fonction d'estimation, et l'ajustement des paramètres du modèle. Ils offrent aussi des options pour afficher des données spécifiques comme la consommation d'énergie, les coûts des GPU et divers autres indicateurs. \n",
    "\n",
    "Voici la création de ces widgets :"
   ]
  },
  {
   "cell_type": "code",
   "execution_count": 229,
   "metadata": {},
   "outputs": [],
   "source": [
    "graphs_to_display_widget = widgets.TagsInput(\n",
    "    value=['Number of TFLOPS', 'GPU Usage Rate', 'Energy Consumption in kWh', 'Number of GPUs Added', 'Price of the GPU', 'Type of GPU'] + list_graphs_name_indicators,\n",
    "    allowed_tags=['Number of TFLOPS', 'GPU Usage Rate', 'Energy Consumption in kWh', 'Number of GPUs Added', 'Price of the GPU', 'Type of GPU'] + list_graphs_name_indicators,\n",
    "    allow_duplicates=False\n",
    ")\n",
    "\n",
    "estimate_fi_func_widget = widgets.Dropdown(\n",
    "    options={'estimate_fi_1': estimate_fi_1, 'estimate_fi_2': estimate_fi_2, 'estimate_fi_3': estimate_fi_3}, description='Estimate Function',\n",
    "    layout=Layout(width='60%', height='25px'), style={'description_width': '220px'}, continuous_update=False\n",
    ")\n",
    "\n",
    "duration_widget = widgets.IntSlider(\n",
    "    value=dict_variables.get('duration_between_demand_multiplications'), min=3, max=dict_variables.get('nb_months_experiment'), step=1, description='Duration of Demand Multiplications',\n",
    "    layout=Layout(width='60%', height='25px'), style={'description_width': '220px'}, continuous_update=False\n",
    ")\n",
    "\n",
    "lifespan_months_widget = widgets.IntSlider(\n",
    "    value=dict_variables.get('Lifespan_Months'), min=1, max=dict_variables.get('nb_months_experiment'), step=1, description='Lifespan of a GPU (months)', \n",
    "    layout=Layout(width='60%', height='25px'), style={'description_width': '220px'}, continuous_update=False\n",
    ")\n",
    "\n",
    "line_indications_widget = widgets.RadioButtons(\n",
    "    options=['None', 'Demande', 'Renewal', 'Demande and Renewal'], description='Line indicating the new GPU',\n",
    "    layout=Layout(width='60%', height='120px'), style={'description_width': '220px'}, disabled=False\n",
    ")\n",
    "\n",
    "alpha_widget = widgets.FloatSlider(\n",
    "    value=dict_variables.get('alpha'), min=0.01, max=1, step=0.01, description='Alpha',\n",
    "    layout=Layout(width='45%', height='120px'), style={'description_width': '220px'}, continuous_update=False\n",
    ")\n",
    "\n",
    "beta_1_widget = widgets.FloatSlider(\n",
    "    value=dict_variables.get('beta'), min=0.01, max=1.5, step=0.01, description='Beta 1',\n",
    "    layout=Layout(width='45%', height='120px'), style={'description_width': '220px'}, continuous_update=False\n",
    ")\n",
    "\n",
    "beta_2_widget = widgets.FloatSlider(\n",
    "    value=dict_variables.get('beta'), min=0.01, max=1, step=0.01, description='Beta 2',\n",
    "    layout=Layout(width='45%', height='120px'), style={'description_width': '220px'}, continuous_update=False\n",
    ")\n",
    "\n",
    "methode_production_indicators_widget = widgets.RadioButtons(\n",
    "    options=['Flux', 'Stock'], description='Type of methode',\n",
    "    layout=Layout(width='60%', height='70px'), style={'description_width': '220px'}, disabled=False\n",
    ")\n",
    "\n",
    "type_graph_cumulative_widget = widgets.RadioButtons(\n",
    "    options=['Differential', 'Cumulative'], description='Data Types for Electricity and CO2',\n",
    "    layout=Layout(width='60%', height='70px'), style={'description_width': '220px'}, disabled=False\n",
    ")\n",
    "\n",
    "graph_type_widget = widgets.RadioButtons(\n",
    "    options=['Scatter', 'Bar'],\n",
    "    description='Graph Type',\n",
    "    layout=Layout(width='60%', height='70px'),\n",
    "    style={'description_width': '220px'},\n",
    "    disabled=False\n",
    ")\n",
    "\n",
    "energy_consumption_widget = widgets.HTML()\n",
    "gpus_added_widget = widgets.HTML()\n",
    "price_gpu_widget = widgets.HTML()\n",
    "co2_emission_usage_widget = widgets.HTML()\n",
    "co2_emissions_gpu_prod_widget = widgets.HTML()\n",
    "water_used_gpu_usage_widget = widgets.HTML()\n",
    "water_used_gpu_prod_widget = widgets.HTML()\n",
    "abiotic_depletion_gpu_usage_widget = widgets.HTML()\n",
    "abiotic_depletion_gpu_prod_widget = widgets.HTML()\n",
    "electronic_waste_gpu_prod_widget = widgets.HTML()"
   ]
  },
  {
   "cell_type": "markdown",
   "metadata": {},
   "source": [
    "Pour chaque clé dans `dict_indicators`, un widget de type bouton radio est généré, permettant de choisir entre les graphiques de type \"Scatter\" ou \"Bar\". Ces widgets sont ensuite stockés dans une liste, avec leurs noms dynamiques générés et enregistrés dans l'espace global pour une utilisation ultérieure. Les widgets et les indicateurs associés sont organisés en trois listes distinctes : `list_widgets_indicators` pour les widgets, `list_indicators` pour les noms des indicateurs, et `list_widget_name` pour les noms des widgets."
   ]
  },
  {
   "cell_type": "code",
   "execution_count": 230,
   "metadata": {},
   "outputs": [],
   "source": [
    "i = 0\n",
    "list_widget_name = []\n",
    "list_widgets_indicators = []\n",
    "list_indicators = []\n",
    "\n",
    "for key in dict_indicators.keys():\n",
    "    widget_name = f'{key}_type_widget'\n",
    "    widget = widgets.RadioButtons(\n",
    "        options=['Scatter', 'Bar'], description=f'Type of the {list_graphs_name_indicators[i]} Graph',\n",
    "        layout=Layout(width='60%', height='70px'), style={'description_width': '220px'}, disabled=False\n",
    "    )\n",
    "    list_widgets_indicators.append(widget)\n",
    "    indicators = f'{key.lower()}'\n",
    "    list_indicators.append(indicators)\n",
    "    list_widget_name.append(widget_name)\n",
    "    globals()[widget_name] = widget\n",
    "    i += 1    "
   ]
  },
  {
   "cell_type": "markdown",
   "metadata": {},
   "source": [
    "___"
   ]
  },
  {
   "cell_type": "markdown",
   "metadata": {},
   "source": [
    "## Graphiques"
   ]
  },
  {
   "cell_type": "markdown",
   "metadata": {},
   "source": [
    "La fonction `update_alpha_beta_visibility` ajuste la visibilité des widgets pour les paramètres alpha et beta en fonction de la fonction d'estimation sélectionnée. La fonction `update_visibility` rend visibles les widgets relatifs aux types de graphes et aux affichages spécifiques selon les graphiques sélectionnés. La fonction `update_plot` génère les graphiques en fonction des sélections et des paramètres ajustés, calcule divers indicateurs, et met à jour les widgets d'affichage avec les résultats. Ces widgets affichent des informations détaillées telles que la consommation d'énergie, le coût des GPU, et les émissions de CO2."
   ]
  },
  {
   "cell_type": "code",
   "execution_count": 231,
   "metadata": {},
   "outputs": [],
   "source": [
    "def update_alpha_beta_visibility(change: dict[str, any]) -> None:\n",
    "    fonction_to_dispay = change['new']\n",
    "    if fonction_to_dispay == estimate_fi_1:\n",
    "        alpha_widget.layout.display = 'block'\n",
    "        beta_1_widget.layout.display = 'none'\n",
    "        beta_2_widget.layout.display = 'none'\n",
    "    elif fonction_to_dispay == estimate_fi_2:\n",
    "        alpha_widget.layout.display = 'none'\n",
    "        beta_1_widget.layout.display = 'block'\n",
    "        beta_2_widget.layout.display = 'none'\n",
    "    elif fonction_to_dispay == estimate_fi_3:\n",
    "        alpha_widget.layout.display = 'none'\n",
    "        beta_1_widget.layout.display = 'none'\n",
    "        beta_2_widget.layout.display = 'block'\n",
    "\n",
    "estimate_fi_func_widget.observe(update_alpha_beta_visibility, names='value')\n",
    "update_alpha_beta_visibility({'new': estimate_fi_func_widget.value})\n",
    "\n",
    "def update_visibility(change: dict[str, any]) -> None:\n",
    "    graphs_to_display = change['new']\n",
    "    \n",
    "    if any(graph in graphs_to_display for graph in ['Energy Consumption in kWh'] + list_graphs_name_indicators):\n",
    "        type_graph_cumulative_widget.layout.display = 'block'\n",
    "    \n",
    "graph_type_widget.observe(update_visibility, names='value')\n",
    "update_visibility({'new': graphs_to_display_widget.value})\n",
    "\n",
    "graphs_to_display_widget.observe(update_visibility, names='value')\n",
    "update_visibility({'new': graphs_to_display_widget.value})\n",
    "\n",
    "def update_plot(graphs_to_display: list[str], duration_between_demand_multiplications: int, lifespan_months: int, estimate_fi_func: Callable, alpha :float, beta_1: float, beta_2: float, line_indications: str, type_graph_cumulative: str, methode_production_indicators: str, graph_type: str):\n",
    "    pio.renderers.default = 'notebook'\n",
    "    df_GPU_park = df_GPU_park_init.copy()\n",
    "    beta_value = beta_1 if estimate_fi_func == estimate_fi_2 else beta_2 if estimate_fi_func == estimate_fi_3 else dict_variables.get('beta')\n",
    "    \n",
    "    test_model = create_df_test_model(df_data_GPU, df_GPU_park, dict_variables, dict_indicators, duration_between_demand_multiplications, lifespan_months, list_gpu_rate_usage, \n",
    "                                      dict_variables.get('usage_rate'), dict_variables.get('nb_months_experiment'), estimate_fi_func,\n",
    "                                      dict_variables.get('current_year'), dict_variables.get('current_month'),\n",
    "                                      alpha=alpha if estimate_fi_func == estimate_fi_1 else dict_variables.get('alpha'), beta=beta_value)\n",
    "    \n",
    "    df_test_model = test_model\n",
    "    list_year_of_gpu_changed = get_line_indications(df_test_model, line_indications)\n",
    "    \n",
    "    num_graphs = len(graphs_to_display)\n",
    "    num_rows = math.ceil(num_graphs / 2)\n",
    "    num_cols = 2 if num_graphs > 1 else 1\n",
    "    \n",
    "    fig = make_subplots(rows=num_rows, cols=num_cols, subplot_titles=tuple(graphs_to_display))\n",
    "    row, col = 1, 1\n",
    "\n",
    "    if 'Number of TFLOPS' in graphs_to_display:\n",
    "        plot_tflops(fig, df_test_model, row, col, list_year_of_gpu_changed)\n",
    "        col += 1\n",
    "        if col > num_cols:\n",
    "            col = 1\n",
    "            row += 1\n",
    "    \n",
    "    if 'GPU Usage Rate' in graphs_to_display:\n",
    "        plot_gpu_usage_rate(fig, df_test_model, row, col, list_year_of_gpu_changed)\n",
    "        col += 1\n",
    "        if col > num_cols:\n",
    "            col = 1\n",
    "            row += 1\n",
    "    \n",
    "    if 'Energy Consumption in kWh' in graphs_to_display:\n",
    "        plot_data_center_energy_consumption(fig, df_test_model, type_graph_cumulative, row, col, list_year_of_gpu_changed)\n",
    "        col += 1\n",
    "        if col > num_cols:\n",
    "            col = 1\n",
    "            row += 1\n",
    "    \n",
    "    if 'Number of GPUs Added' in graphs_to_display:\n",
    "        plot_number_of_gpus_added(fig, df_test_model, row, col, list_year_of_gpu_changed)\n",
    "        col += 1\n",
    "        if col > num_cols:\n",
    "            col = 1\n",
    "            row += 1\n",
    "    \n",
    "    if 'Price of the GPU' in graphs_to_display:\n",
    "        plot_data_center_price(fig, df_test_model, type_graph_cumulative, row, col, list_year_of_gpu_changed)\n",
    "        col += 1\n",
    "        if col > num_cols:\n",
    "            col = 1\n",
    "            row += 1\n",
    "            \n",
    "    if 'Type of GPU' in graphs_to_display:\n",
    "        plot_gpu_distribution(fig, df_test_model, row, col, list_year_of_gpu_changed)\n",
    "        col += 1\n",
    "        if col > num_cols:\n",
    "            col = 1\n",
    "            row += 1\n",
    "\n",
    "    for i, indicator in enumerate(list_indicators):\n",
    "        indicator_type = list_graphs_name_indicators[i]\n",
    "        if indicator_type in graphs_to_display:\n",
    "            plot_indicators(fig, df_test_model, type_graph_cumulative, graph_type, methode_production_indicators, row, col, list_year_of_gpu_changed, list(dict_indicators.keys())[i], list(dict_indicators.values())[i][2])\n",
    "            col += 1\n",
    "            if col > num_cols:\n",
    "                col = 1\n",
    "                row += 1\n",
    "    \n",
    "    fig.update_layout(title_text='Analysis')\n",
    "    energy_consumption = convert_values(calculate_total_sum_variable(df_test_model, 'Energy_Consumption', float)) * 1000\n",
    "    gpus_added = calculate_total_sum_variable(df_test_model, 'GPU_Added', int)\n",
    "    price_gpu = convert_values(calculate_total_sum_variable(df_test_model, 'Price_GPU_Added', int), True)\n",
    "    co2_emission_usage = convert_values(calculate_total_sum_variable(df_test_model, 'CO2_Emissions_Usage', float))\n",
    "    co2_emissions_gpu_prod = convert_values(calculate_total_sum_variable(df_test_model, 'CO2_Emissions_Production_from_added', float), False)\n",
    "    water_used_gpu_usage = convert_values(calculate_total_sum_variable(df_test_model, 'Water_Consumption_Usage', float), False)\n",
    "    water_used_gpu_prod = convert_values(calculate_total_sum_variable(df_test_model, 'Water_Consumption_Production_from_added', float), False)\n",
    "    abiotic_depletion_gpu_usage = convert_values(calculate_total_sum_variable(df_test_model, 'Abiotic_Depletion_Usage', float), False)\n",
    "    abiotic_depletion_gpu_prod = convert_values(calculate_total_sum_variable(df_test_model, 'Abiotic_Depletion_Production_from_added', float), False)\n",
    "    electronic_waste_gpu_prod = convert_values(calculate_total_sum_variable(df_test_model, 'Electronic_Waste_Production_from_added', float), False)\n",
    "    \n",
    "    energy_consumption_widget.value = f\"<b>Energy Consumption: </b> {energy_consumption[0]} {energy_consumption[1]} kWh\"\n",
    "    gpus_added_widget.value = f\"<b>GPUs Added:</b> {gpus_added} units\"\n",
    "    price_gpu_widget.value = f\"<b>Price of GPUs Added:</b> {price_gpu[0]} {price_gpu[1]} euros\"\n",
    "    co2_emission_usage_widget.value = f\"<b>CO2 Emissions Usage:</b> {co2_emission_usage[0]} {co2_emission_usage[1]}kg\"\n",
    "    co2_emissions_gpu_prod_widget.value = f\"<b>CO2 Emissions from GPU Production:</b> {co2_emissions_gpu_prod[0]} {co2_emissions_gpu_prod[1]}kg\"\n",
    "    water_used_gpu_usage_widget.value = f\"<b>Water Usage:</b> {water_used_gpu_usage[0]} {water_used_gpu_usage[1]}L\"\n",
    "    water_used_gpu_prod_widget.value = f\"<b>Water from GPU Production:</b> {water_used_gpu_prod[0]} {water_used_gpu_prod[1]}L\"\n",
    "    abiotic_depletion_gpu_usage_widget.value = f\"<b>Abiotic Depletion Usage:</b> {abiotic_depletion_gpu_usage[0]} {abiotic_depletion_gpu_usage[1]}kg/Sbeq\"\n",
    "    abiotic_depletion_gpu_prod_widget.value = f\"<b>Abiotic Depletion from GPU Production:</b> {abiotic_depletion_gpu_prod[0]} {abiotic_depletion_gpu_prod[1]}kg/Sbeq\"\n",
    "    electronic_waste_gpu_prod_widget.value = f\"<b>Electronic Waste from GPU Production:</b> {electronic_waste_gpu_prod[0]} {electronic_waste_gpu_prod[1]}kg\"\n",
    "    \n",
    "    fig.show()\n",
    "    display(energy_consumption_widget, gpus_added_widget, price_gpu_widget, co2_emission_usage_widget, co2_emissions_gpu_prod_widget, water_used_gpu_usage_widget, water_used_gpu_prod_widget,\n",
    "            abiotic_depletion_gpu_usage_widget, abiotic_depletion_gpu_prod_widget, electronic_waste_gpu_prod_widget)"
   ]
  },
  {
   "cell_type": "markdown",
   "metadata": {},
   "source": [
    "Les graphiques suivants permettent de visualiser l'évolution de :\n",
    "\n",
    "- **Nombre de TFLOPS** : indique la puissance de calcul totale disponible\n",
    "- **Taux d'utilisation des GPU** : montre à quel point les GPU sont utilisés par rapport à leur capacité totale (mesurée entre 0 et 1)\n",
    "- **Consommation du datacenter en kWh** : représente la consommation énergétique du datacenter en kWh\n",
    "- **Nombre de GPU ajoutés** : montre le nombre de nouveaux GPU ajoutés au parc pour satisfaire la demande\n",
    "- **Coût des GPU** : affiche les dépenses associées à l'ajout de nouveaux GPU en €\n",
    "- **Type de GPU dans le datacenter** : illustre la répartition des différents types de GPU présents dans le datacenter\n",
    "\n",
    "Les widgets suivants permettent de modifier les valeurs des différentes variables :\n",
    "\n",
    "- Un champ permettant de sélectionner les graphiques à afficher parmi une liste prédéfinie, comme \"Nombre de TFLOPS\", \"Taux d'utilisation des GPU\", \"Consommation du datacenter en kWh\", etc\n",
    "- Le menu déroulant **\"Estimate Function\"** permet de choisir parmi trois fonctions d'estimation différentes pour l'approximation de la capacité maximale\n",
    "- Le curseur **\"Duration between demand multiplications\"** ajuste le nombre de mois après lesquels la demande de TFLOPS sera multipliée par 2,5, avec une valeur de base définie dans le dictionnaire `dict_variables`\n",
    "- Le curseur **\"Lifespan of a GPU\"** modifie la durée de vie maximale d'un GPU, indiquant le moment où les GPU doivent être remplacés.\n",
    "- Les curseurs **\"Alpha\"** et **\"Beta\"** ajustent les paramètres d'estimation de la capacité maximale utilisée au fil du temps :\n",
    "  - Pour la fonction `estimate_fi_1`, l'alpha varie entre 0.01 et 1 avec un pas de 0.01\n",
    "  - Pour la fonction `estimate_fi_2`, le beta varie entre 0.01 et 1,5 avec un pas de 0.01 (au-delà de 1.5, les valeurs restent constantes)\n",
    "  - Pour la fonction `estimate_fi_3`, le beta varie entre 0.01 et 1 avec un pas de 0.01\n",
    "- **\"Line indications\"** : un groupe de boutons radio permettant de choisir les lignes à afficher sur les graphiques, telles que la demande ou le renouvellement\n",
    "- **\"Data Types for Electricity and CO2\"** : des boutons radio pour sélectionner le type de données à afficher, soit \"Differential\" soit \"Cumulative\"\n",
    "- **\"Type of method\"** : des boutons radio pour choisir entre les méthodes de production \"Flux\" ou \"Stock\"\n",
    "- **\"Graph Type\"** : un groupe de boutons radio pour sélectionner le type de graphique à afficher, soit \"Scatter\" soit \"Bar\"\n",
    "\n",
    "À la fin des graphiques, une analyse globale est réalisée pour évaluer l'impact environnemental sur l'ensemble de la période de l'expérience."
   ]
  },
  {
   "cell_type": "code",
   "execution_count": 232,
   "metadata": {},
   "outputs": [
    {
     "data": {
      "application/vnd.jupyter.widget-view+json": {
       "model_id": "402aab82a8b34f678bed0359bde57673",
       "version_major": 2,
       "version_minor": 0
      },
      "text/plain": [
       "interactive(children=(TagsInput(value=['Number of TFLOPS', 'GPU Usage Rate', 'Energy Consumption in kWh', 'Num…"
      ]
     },
     "metadata": {},
     "output_type": "display_data"
    }
   ],
   "source": [
    "interact(\n",
    "    update_plot,\n",
    "    graphs_to_display=graphs_to_display_widget,\n",
    "    duration_between_demand_multiplications=duration_widget,\n",
    "    lifespan_months=lifespan_months_widget,\n",
    "    estimate_fi_func=estimate_fi_func_widget,\n",
    "    alpha=alpha_widget,\n",
    "    beta_1=beta_1_widget,\n",
    "    beta_2=beta_2_widget,\n",
    "    line_indications=line_indications_widget,\n",
    "    type_graph_cumulative=type_graph_cumulative_widget,\n",
    "    methode_production_indicators=methode_production_indicators_widget,\n",
    "    graph_type=graph_type_widget\n",
    ");"
   ]
  },
  {
   "cell_type": "markdown",
   "metadata": {},
   "source": [
    "___"
   ]
  },
  {
   "cell_type": "markdown",
   "metadata": {},
   "source": [
    "# Fonction de calcul de la surface en m² utilisée par le datacenter\n",
    "\n",
    "Dans cette section, nous allons développer une fonction permettant de calculer la surface totale en mètres carrés utilisée par le datacenter."
   ]
  },
  {
   "cell_type": "markdown",
   "metadata": {},
   "source": [
    "### Dictionnaire des variables techniques pour l'aménagement de la surface du Data Cente"
   ]
  },
  {
   "cell_type": "markdown",
   "metadata": {},
   "source": [
    "#### Quelques informations clés :\n",
    "\n",
    "Dans une salle de serveurs typique, les racks sont souvent disposés en rangées avec des couloirs froids situés entre ces rangées de racks. Pour une rangée de racks : La Largeur du couloir froid est comptée à l'avant de la rangée de racks, ainsi elle est également comptée à l'arrière de la rangée de racks. De plus, un couloir froid supplémentaire est nécessaire entre chaque paire de lignes de racks pour assurer une bonne circulation de l'air.\n",
    "\n",
    "#### Données techniques : \n",
    " - Taille des Serveurs :\n",
    "  \n",
    "   - Unité de Rack (U) : les racks de serveurs sont mesurés en \"unités de rack\" notés \"U\". Nous allons nous concentrer sur les serveurs du type \"Serveur 4U\" qui permetent d'accueillir jusqu'à 8 GPU ou plus (en fonction du modèle)\n",
    "  \n",
    "- Taille des Racks :\n",
    "  - [Racks de 42U](https://www.42u.com/42U-cabinets.htm) : un rack de serveur industriel standard mesure généralement 42U de hauteur, ce qui correspond à environ 2 mètres\n",
    "    - largeur : **0.6 m ou 0.8 m**\n",
    "    - profondeur : **0.8 m ou 1,05 m**\n",
    "\n",
    "- La salle se compose de [**deux types de couloir**](https://www.techtarget.com/searchdatacenter/definition/hot-cold-aisle), qui doivent être aménagées autour de chaque rack :\n",
    "  - Couloir froide (Cold Aisle) :\n",
    "    - l'air frais est aspiré par les serveurs\n",
    "    - généralement une largeur de [**1,2 mètres**](https://lacltd.uk.com/data-centre-hot-aisle-cold-aisle-)\n",
    "    - permet un bon flux d'air et un accès suffisant pour le personnel\n",
    "\n",
    "  - Couloir chaude (Hot Aisle) :\n",
    "    - l'air chaud est expulsé à l'arrière des serveurs \n",
    "    - largeur recommandée de [**1,2 mètres**](https://lacltd.uk.com/data-centre-hot-aisle-hot-aisle-) \n",
    "    - elle peut parfois être plus étroite, en fonction de l'espace disponible et du design de la salle\n",
    "\n",
    "- Espacement entre les Racks et le mur : [**1.2 m**](https://www.smartisystems.com/data-center/a-definitive-guide-of-standard-server-room/#:~:text=The%20arrangement%20of%20equipment%20should,at%20the%20rear%20is%20recommended)"
   ]
  },
  {
   "cell_type": "markdown",
   "metadata": {},
   "source": [
    "Ce dictionnaire contient des variables clés pour la configuration physique du Data Center, toutes les valeurs étant exprimées en mètres.\n",
    "\n",
    "- **`high_42U_server_racks`** : nombre total de racks de serveurs de 42U dans l'installation (type : int)\n",
    "\n",
    "- **`width_42U_server_racks`** : largeur d'un rack de serveur de 42U (type : float)\n",
    "\n",
    "- **`depth_42U_server_racks`** : profondeur d'un rack de serveur de 42U (type : float)\n",
    "\n",
    "- **`width_hot_aisle`** : largeur d'une allée chaude dans le centre de données (type : float)\n",
    "\n",
    "- **`width_cold_aisle`** : largeur d'une allée froide dans le centre de données (type : float)\n",
    "\n",
    "- **`rack_42U`** : hauteur d'un rack de serveur en unités de rack (U), où une unité correspond à environ 4,45 cm (type : int)\n",
    "\n",
    "- **`4U_server`** : taille d'un serveur en unités de rack (U), spécifiant qu'il occupe 4U de hauteur dans un rack (type : int)\n",
    "\n",
    "- **`gpu_per_server`** : nombre de GPU installés dans un serveur (type : int)\n",
    "\n",
    "- **`num_of_racks_in_a_line`** : nombre de racks pouvant être installés en ligne dans une disposition donnée (type : int)\n",
    "\n",
    "- **` num_of_racks_in_a_line_allowed`** : nombre maximal de racks autorisés en ligne, utilisé principalement pour déterminer la capacité maximale d'une ligne de racks dans l'outil interactif. Cette variable sert à définir les limites supérieures pour la configuration visuelle et ne reflète pas nécessairement les contraintes physiques ou opérationnelles réelles (type : int)"
   ]
  },
  {
   "cell_type": "code",
   "execution_count": 233,
   "metadata": {},
   "outputs": [],
   "source": [
    "dict_variables_servers = {\"high_42U_server_racks\": 2,\n",
    "                    \"width_42U_server_racks\": 0.8, \n",
    "                    \"depth_42U_server_racks\": 1.05,\n",
    "                    \"width_hot_aisle\": 1.5, \n",
    "                    \"width_cold_aisle\": 1.5, \n",
    "                    \"rack_42U\": 42,\n",
    "                    \"4U_server\": 4,\n",
    "                    \"gpu_per_server\": 8,\n",
    "                    \"num_of_racks_in_a_line\": 20,\n",
    "                    \"num_of_racks_in_a_line_allowed\": 150,\n",
    "                    }"
   ]
  },
  {
   "cell_type": "markdown",
   "metadata": {},
   "source": [
    "### Calcul de la surface nécessaire par les racks de serveurs dans un Datacenter\n",
    "\n",
    "La fonction calcule la surface totale occupée par les racks de serveurs dans un datacenter en fonction du nombre de GPU et des dimensions des racks. Détermine également le nombre de racks, de lignes, ainsi que le nombre de couloirs froids et chauds nécessaires pour assurer une disposition efficace et optimale des serveurs, retournés dans un dictionnaire.\n",
    "\n",
    "Fonction pour calculer la surface utilisée :\n",
    "\n",
    "$$\n",
    "\\text{Surface par rack en m}^2 = \\frac{(\\text{Profondeur du rack} + \\text{Nombre de couloirs chaud/froid} \\times \\text{Largeur d'un couloir}) \\times (\\text{Longueur du rack} \\times \\text{Nombre de racks} + 2 \\times \\text{Largeur du couloir froid})}{\\text{Nombre de racks dans la salle}}\n",
    "$$"
   ]
  },
  {
   "cell_type": "code",
   "execution_count": 234,
   "metadata": {},
   "outputs": [],
   "source": [
    "def size_server_room(dict_variables_servers: dict[str, int], num_gpu: int,  num_of_racks_in_a_line: int = dict_variables_servers.get('num_of_racks_in_a_line')) -> dict[str, float]:\n",
    "    rack_42U = dict_variables_servers.get('rack_42U')\n",
    "    U_server = dict_variables_servers.get('4U_server')\n",
    "    gpu_per_server = dict_variables_servers.get('gpu_per_server')    \n",
    "    width_42U_server_racks = dict_variables_servers.get('width_42U_server_racks')\n",
    "    depth_42U_server_racks = dict_variables_servers.get('depth_42U_server_racks')\n",
    "    width_cold_aisle = dict_variables_servers.get('width_cold_aisle')\n",
    "    width_hot_aisle = dict_variables_servers.get('width_hot_aisle')\n",
    "\n",
    "    num_servers_rack = rack_42U // U_server  # nombre de serveurs par rack\n",
    "    num_servers_needed = math.ceil(num_gpu / gpu_per_server)  # nombre total de serveurs nécessaires\n",
    "    num_of_racks_needed = math.ceil(num_servers_needed / num_servers_rack)  # nombre de racks nécessaires\n",
    "    num_of_lines = math.ceil(num_of_racks_needed /  num_of_racks_in_a_line)  # nombre de lignes de racks nécessaires\n",
    "    num_of_lines = num_of_lines + 1 if num_of_lines % 2 == 1 else num_of_lines\n",
    "     \n",
    "    total_width = (width_42U_server_racks *  num_of_racks_in_a_line) + 2 * width_cold_aisle\n",
    "\n",
    "    # nombre de couloirs froids et chauds nécessaires\n",
    "    num_cold_aisles = math.ceil((num_of_lines + 1) / 2)  # un couloir froid entre chaque paire de lignes\n",
    "    num_hot_aisles = num_cold_aisles - 1\n",
    "\n",
    "    total_depth = (depth_42U_server_racks * num_of_lines) + (num_cold_aisles * width_cold_aisle) + (num_hot_aisles * width_hot_aisle)\n",
    "\n",
    "    return {\n",
    "        'total_width': total_width,\n",
    "        'total_depth': total_depth,\n",
    "        'num_of_racks_needed': num_of_racks_needed,\n",
    "        'num_cold_aisles': num_cold_aisles,\n",
    "        'num_hot_aisles': num_hot_aisles,\n",
    "        'num_of_lines': num_of_lines\n",
    "    }"
   ]
  },
  {
   "cell_type": "markdown",
   "metadata": {},
   "source": [
    "### Calcul de la surface totale et de l'espace occupé par les racks de serveurs dans un Datacenter"
   ]
  },
  {
   "cell_type": "markdown",
   "metadata": {},
   "source": [
    "Donne la surface totale utilisée par les racks de serveurs dans un datacenter, en prenant en compte les dimensions du datacenter, le nombre de racks nécessaires, et la disposition des lignes de racks. La fonction retourne trois valeurs : la surface totale, la surface réellement utilisée par les racks, et le pourcentage de la surface totale effectivement occupée par les racks."
   ]
  },
  {
   "cell_type": "code",
   "execution_count": 235,
   "metadata": {},
   "outputs": [],
   "source": [
    "def area_used_servers(dimensions: dict[str, int], num_racks_per_line) -> tuple[float, float, float]:\n",
    "    total_width = dimensions['total_width']\n",
    "    total_depth = dimensions['total_depth']\n",
    "    num_of_racks_needed = dimensions['num_of_racks_needed']\n",
    "    num_of_lines = dimensions['num_of_lines']\n",
    "    \n",
    "    total_area = (total_width * total_depth) \n",
    "    used_area = total_area / (num_of_lines * num_racks_per_line) * num_of_racks_needed\n",
    "    percentage_used_area =  used_area / total_area * 100\n",
    "    return round(total_area, 2), round(used_area, 2), round(percentage_used_area, 2)"
   ]
  },
  {
   "cell_type": "markdown",
   "metadata": {},
   "source": [
    "### Graphiques en utilisant [matplotlib.patches.Rectangle](https://matplotlib.org/stable/api/_as_gen/matplotlib.patches.Rectangle.html)"
   ]
  },
  {
   "cell_type": "markdown",
   "metadata": {},
   "source": [
    "Le code convertit la colonne \"Date\" de `df_test_model` en un format datetime, puis extrait les dates uniques au format \"YYYY-MM\" pour les utiliser comme options."
   ]
  },
  {
   "cell_type": "code",
   "execution_count": 236,
   "metadata": {},
   "outputs": [],
   "source": [
    "df_test_model['Date'] = pd.to_datetime(df_test_model['Date'], format='%Y-%m')\n",
    "\n",
    "date_options = df_test_model['Date'].dt.strftime('%Y-%m').unique()"
   ]
  },
  {
   "cell_type": "markdown",
   "metadata": {},
   "source": [
    "Création des Widgets :"
   ]
  },
  {
   "cell_type": "code",
   "execution_count": 237,
   "metadata": {},
   "outputs": [],
   "source": [
    "date_slider = widgets.SelectionSlider(\n",
    "    options=date_options,\n",
    "    value=date_options[0],\n",
    "    description='Date',\n",
    "    continuous_update=False,\n",
    "    orientation='horizontal',\n",
    "    layout=Layout(width='60%', height='25px'),\n",
    "    style={'description_width': '100px'}, \n",
    ")\n",
    "\n",
    "num_racks_slider = widgets.IntSlider(\n",
    "    value=dict_variables_servers.get('num_of_racks_in_a_line'), \n",
    "    min=1, \n",
    "    max=dict_variables_servers.get('num_of_racks_in_a_line_allowed'), \n",
    "    step=1, \n",
    "    description='Racks per Line',\n",
    "    continuous_update=False,\n",
    "    orientation='horizontal',\n",
    "    layout=Layout(width='60%', height='25px'),\n",
    "    style={'description_width': '100px'},\n",
    ")\n",
    "\n",
    "info_widget = widgets.HTML(value=\"\")"
   ]
  },
  {
   "cell_type": "markdown",
   "metadata": {},
   "source": [
    "### Visualisation de la disposition des racks dans le Datacenter - Scatter plot\n",
    "\n",
    "Génère une visualisation de la disposition des racks dans un datacenter pour une date spécifique. Dessine les racks en tenant compte de la largeur et de la profondeur totales du datacenter, ainsi que des dimensions des racks et des allées. Les racks sont colorés pour indiquer leur disponibilité, et les allées chaudes et froides sont marquées pour montrer leur placement."
   ]
  },
  {
   "cell_type": "code",
   "execution_count": 238,
   "metadata": {},
   "outputs": [],
   "source": [
    "def plot_server_layout(ax: plt.Axes, selected_date: datetime.date, dict_variables_servers: dict[str, int], num_racks: int, dimensions: dict[str, int]) ->  None:\n",
    "    total_width = dimensions['total_width']\n",
    "    total_depth = dimensions['total_depth']\n",
    "    num_of_racks_needed = dimensions['num_of_racks_needed']\n",
    "    num_cold_aisles = dimensions['num_cold_aisles']\n",
    "    num_hot_aisles = dimensions['num_hot_aisles']\n",
    "    num_of_lines = dimensions['num_of_lines']\n",
    "    \n",
    "    width_cold_aisle = dict_variables_servers.get('width_cold_aisle')\n",
    "    width_hot_aisle = dict_variables_servers.get('width_hot_aisle')\n",
    "    rack_width = dict_variables_servers.get('width_42U_server_racks')\n",
    "    rack_depth = dict_variables_servers.get('depth_42U_server_racks')\n",
    "    \n",
    "    current_depth = 0\n",
    "    cold_aisle_x = width_cold_aisle\n",
    "    cold_aisle_y = current_depth\n",
    "    rect = plt.Rectangle((cold_aisle_x, cold_aisle_y), total_width - 2 * width_cold_aisle, width_cold_aisle, facecolor='lightblue')\n",
    "    ax.add_patch(rect)\n",
    "    current_depth += width_cold_aisle\n",
    "    racks_to_count = 0\n",
    "\n",
    "    for line in range(num_of_lines):\n",
    "        for rack in range(num_racks):\n",
    "            rack_x = cold_aisle_x + rack * rack_width\n",
    "            rack_y = current_depth\n",
    "            color = 'lightgreen' if racks_to_count < num_of_racks_needed else 'lightgray'\n",
    "            edge_color = 'green' if racks_to_count < num_of_racks_needed else 'gray'\n",
    "            ax.add_patch(plt.Rectangle((rack_x, rack_y), rack_width, rack_depth, edgecolor=edge_color, facecolor=color))\n",
    "            racks_to_count += 1\n",
    "        \n",
    "        current_depth += rack_depth\n",
    "\n",
    "        if line % 2 == 0 and num_hot_aisles > 0:\n",
    "            ax.add_patch(plt.Rectangle((cold_aisle_x, current_depth), total_width - 2 * width_cold_aisle, width_hot_aisle, edgecolor='red', facecolor='lightcoral'))\n",
    "            current_depth += width_hot_aisle\n",
    "            num_hot_aisles -= 1\n",
    "        elif line % 2 == 1 and num_cold_aisles > 0:\n",
    "            ax.add_patch(plt.Rectangle((cold_aisle_x, current_depth), total_width - 2 * width_cold_aisle, width_cold_aisle, facecolor='lightblue'))\n",
    "            current_depth += width_cold_aisle\n",
    "            num_cold_aisles -= 1\n",
    "    \n",
    "    rect_1 = plt.Rectangle((0, 0), width_cold_aisle, total_depth, facecolor='lightblue')  \n",
    "    rect_2 = plt.Rectangle((total_width - width_cold_aisle, 0), width_cold_aisle, total_depth, facecolor='lightblue')\n",
    "    ax.add_patch(rect_1)\n",
    "    ax.add_patch(rect_2)\n",
    "    \n",
    "    ax.set_xlim(0, total_width)\n",
    "    ax.set_ylim(0, total_depth)\n",
    "    ax.set_aspect('equal')\n",
    "    ax.invert_yaxis()\n",
    "    \n",
    "    ax.set_xlabel('Width in meters')\n",
    "    ax.set_ylabel('Depth in meters')\n",
    "    ax.set_title(f'Server room organisation for {selected_date.strftime(\"%Y-%m\")}')\n",
    "    \n",
    "    hot_aisle_patch = patches.Patch(color='lightcoral', label='Hot aisle')\n",
    "    cold_aisle_patch = patches.Patch(color='lightblue', label='Cold aisle')\n",
    "    rack_patch = patches.Rectangle((0, 0), 1, 1, edgecolor='gray', facecolor='lightgray', label='Server rack availble')\n",
    "    rack_patch_used = patches.Rectangle((0, 0), 1, 1, edgecolor='green', facecolor='lightgreen', label='Server rack used or partially used')\n",
    "    ax.legend(handles=[hot_aisle_patch, cold_aisle_patch, rack_patch, rack_patch_used])"
   ]
  },
  {
   "cell_type": "markdown",
   "metadata": {},
   "source": [
    "### Visualisation de la répartition des types de GPU - Bar plot\n",
    "\n",
    "Génère un graphique à barres illustrant la répartition des différents types de GPU pour une date spécifique, en utilisant les données fournies dans `df_selected_data` pour extraire les types et les quantités de GPU, puis trace un histogramme avec des barres colorées en bleu clair."
   ]
  },
  {
   "cell_type": "code",
   "execution_count": 239,
   "metadata": {},
   "outputs": [],
   "source": [
    "def plot_gpu_bar(ax: plt.Axes, selected_date: datetime.date, df_selected_data: pd.DataFrame) -> None:\n",
    "    gpu_types = df_selected_data.iloc[0]['GPU_Types']\n",
    "    gpu_names = list(gpu_types.keys())\n",
    "    gpu_counts = list(gpu_types.values())\n",
    "    \n",
    "    ax.bar(gpu_names, gpu_counts, color='skyblue')\n",
    "    ax.set_xlabel('GPU Types')\n",
    "    ax.set_ylabel('Number of GPUs')\n",
    "    ax.set_title(f'GPU Composition on {selected_date.strftime(\"%Y-%m\")}')"
   ]
  },
  {
   "cell_type": "markdown",
   "metadata": {},
   "source": [
    "### Fonction pour générer les deux graphiques"
   ]
  },
  {
   "cell_type": "code",
   "execution_count": 240,
   "metadata": {},
   "outputs": [],
   "source": [
    "def plot_server_room(selected_date: str, num_racks: int) -> None:\n",
    "    selected_date = pd.to_datetime(selected_date)\n",
    "    \n",
    "    df_selected_data = df_test_model[df_test_model['Date'] == selected_date]\n",
    "    num_gpu = df_selected_data['Total_GPU_Count'].sum()\n",
    "    dimensions = size_server_room(dict_variables_servers, num_gpu, num_racks)\n",
    "    \n",
    "    fig, (ax1, ax2) = plt.subplots(1, 2, figsize=(20, 10), gridspec_kw={'width_ratios': [3, 1]})\n",
    "    plot_server_layout(ax1, selected_date, dict_variables_servers, num_racks, dimensions)\n",
    "    plot_gpu_bar(ax2, selected_date, df_selected_data)\n",
    "    \n",
    "    total_area, total_area_used, percentage_used_area_used = area_used_servers(dimensions, num_racks)\n",
    "    \n",
    "    info_html = f\"\"\"\n",
    "    <p><strong>Number of GPU:</strong> {num_gpu}</p>\n",
    "    <p><strong>Total square meters:</strong> {total_area} m²</p>\n",
    "    <p><strong>Square meters used:</strong> {total_area_used} m²</p>\n",
    "    <p><strong>Percentage of total square meters that are being utilised:</strong> {percentage_used_area_used} %</p>\n",
    "    \"\"\"\n",
    "    info_widget.value = info_html\n",
    "    display(info_widget)\n",
    "    \n",
    "    plt.show()"
   ]
  },
  {
   "cell_type": "markdown",
   "metadata": {},
   "source": [
    "Le widget **\"Date\"** (slider) permet de sélectionner un mois précis pour visualiser la répartition des GPU à ce moment-là. Ainsi, le widget **\"Racks per Line\"** (slider) permet de choisir le nombre de racks nécessaires par ligne, avec un minimum de deux lignes de racks obligatoires. \n",
    "\n",
    "Une synthèse concise de la surface occupée est affichée entre les widgets et les graphiques pour une meilleure compréhension de l'occupation de l'espace dans le datacenter."
   ]
  },
  {
   "cell_type": "code",
   "execution_count": 241,
   "metadata": {},
   "outputs": [
    {
     "data": {
      "application/vnd.jupyter.widget-view+json": {
       "model_id": "7511c959fadd4d4599850073305a4c69",
       "version_major": 2,
       "version_minor": 0
      },
      "text/plain": [
       "interactive(children=(SelectionSlider(continuous_update=False, description='Date', layout=Layout(height='25px'…"
      ]
     },
     "metadata": {},
     "output_type": "display_data"
    }
   ],
   "source": [
    "widgets.interact(plot_server_room, selected_date=date_slider, num_racks=num_racks_slider);"
   ]
  }
 ],
 "metadata": {
  "kernelspec": {
   "display_name": "Python 3 (ipykernel)",
   "language": "python",
   "name": "python3"
  },
  "language_info": {
   "codemirror_mode": {
    "name": "ipython",
    "version": 3
   },
   "file_extension": ".py",
   "mimetype": "text/x-python",
   "name": "python",
   "nbconvert_exporter": "python",
   "pygments_lexer": "ipython3",
   "version": "3.12.4"
  },
  "vscode": {
   "interpreter": {
    "hash": "aee8b7b246df8f9039afb4144a1f6fd8d2ca17a180786b69acc140d282b71a49"
   }
  }
 },
 "nbformat": 4,
 "nbformat_minor": 4
}
